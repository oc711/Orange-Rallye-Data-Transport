{
 "cells": [
  {
   "cell_type": "code",
   "execution_count": 3,
   "metadata": {
    "scrolled": true
   },
   "outputs": [
    {
     "data": {
      "text/html": [
       "<style>.container {width:98% !important;}</style>"
      ],
      "text/plain": [
       "<IPython.core.display.HTML object>"
      ]
     },
     "metadata": {},
     "output_type": "display_data"
    }
   ],
   "source": [
    "from IPython.core.display import display, HTML\n",
    "display(HTML('<style>.container {width:98% !important;}</style>'))"
   ]
  },
  {
   "cell_type": "code",
   "execution_count": 4,
   "metadata": {},
   "outputs": [],
   "source": [
    "### Necessary libraries\n",
    "import warnings\n",
    "import pandas as pd\n",
    "import numpy as np\n",
    "import time\n",
    "from datetime import datetime\n",
    "from sklearn.ensemble import RandomForestClassifier\n",
    "from sklearn import metrics\n",
    "from sklearn.model_selection import GridSearchCV,cross_validate\n",
    "from sklearn.metrics import accuracy_score,log_loss\n",
    "import matplotlib.pylab as plt\n",
    "import seaborn as sns\n",
    "\n",
    "### Seaborn style\n",
    "sns.set_style(\"whitegrid\")\n",
    "import jaydebeapi\n",
    "import os\n"
   ]
  },
  {
   "cell_type": "code",
   "execution_count": 5,
   "metadata": {},
   "outputs": [
    {
     "data": {
      "text/html": [
       "<div>\n",
       "<style scoped>\n",
       "    .dataframe tbody tr th:only-of-type {\n",
       "        vertical-align: middle;\n",
       "    }\n",
       "\n",
       "    .dataframe tbody tr th {\n",
       "        vertical-align: top;\n",
       "    }\n",
       "\n",
       "    .dataframe thead th {\n",
       "        text-align: right;\n",
       "    }\n",
       "</style>\n",
       "<table border=\"1\" class=\"dataframe\">\n",
       "  <thead>\n",
       "    <tr style=\"text-align: right;\">\n",
       "      <th></th>\n",
       "      <th>cell</th>\n",
       "      <th>density_lon_row</th>\n",
       "      <th>density_lat_row</th>\n",
       "      <th>density</th>\n",
       "    </tr>\n",
       "  </thead>\n",
       "  <tbody>\n",
       "    <tr>\n",
       "      <th>0</th>\n",
       "      <td>257-3091-2G</td>\n",
       "      <td>101</td>\n",
       "      <td>155</td>\n",
       "      <td>0.02426</td>\n",
       "    </tr>\n",
       "    <tr>\n",
       "      <th>1</th>\n",
       "      <td>257-40641-2G</td>\n",
       "      <td>102</td>\n",
       "      <td>155</td>\n",
       "      <td>0.02164</td>\n",
       "    </tr>\n",
       "    <tr>\n",
       "      <th>2</th>\n",
       "      <td>257-42260-2G</td>\n",
       "      <td>102</td>\n",
       "      <td>155</td>\n",
       "      <td>0.02164</td>\n",
       "    </tr>\n",
       "    <tr>\n",
       "      <th>3</th>\n",
       "      <td>257-44252-2G</td>\n",
       "      <td>102</td>\n",
       "      <td>155</td>\n",
       "      <td>0.02164</td>\n",
       "    </tr>\n",
       "    <tr>\n",
       "      <th>4</th>\n",
       "      <td>257-58301-2G</td>\n",
       "      <td>102</td>\n",
       "      <td>155</td>\n",
       "      <td>0.02164</td>\n",
       "    </tr>\n",
       "  </tbody>\n",
       "</table>\n",
       "</div>"
      ],
      "text/plain": [
       "           cell  density_lon_row  density_lat_row  density\n",
       "0   257-3091-2G              101              155  0.02426\n",
       "1  257-40641-2G              102              155  0.02164\n",
       "2  257-42260-2G              102              155  0.02164\n",
       "3  257-44252-2G              102              155  0.02164\n",
       "4  257-58301-2G              102              155  0.02164"
      ]
     },
     "execution_count": 5,
     "metadata": {},
     "output_type": "execute_result"
    }
   ],
   "source": [
    "topo = pd.read_csv(\"uc7_topo_density.csv\",sep=';',encoding = \"utf-8\")\n",
    "topo.head()"
   ]
  },
  {
   "cell_type": "code",
   "execution_count": 6,
   "metadata": {
    "scrolled": true
   },
   "outputs": [
    {
     "name": "stderr",
     "output_type": "stream",
     "text": [
      "C:\\Applications\\anaconda3\\lib\\site-packages\\IPython\\core\\interactiveshell.py:3049: DtypeWarning: Columns (6,7,11,15,18,19,26,27,28,30,31,32,34,35,36,37,38,39) have mixed types. Specify dtype option on import or set low_memory=False.\n",
      "  interactivity=interactivity, compiler=compiler, result=result)\n"
     ]
    },
    {
     "data": {
      "text/plain": [
       "(10039826, 40)"
      ]
     },
     "execution_count": 6,
     "metadata": {},
     "output_type": "execute_result"
    }
   ],
   "source": [
    "train = pd.read_csv(\"dlj_train.zip\",sep=';',compression='zip')\n",
    "train.shape"
   ]
  },
  {
   "cell_type": "code",
   "execution_count": 7,
   "metadata": {},
   "outputs": [
    {
     "name": "stderr",
     "output_type": "stream",
     "text": [
      "C:\\Applications\\anaconda3\\lib\\site-packages\\IPython\\core\\interactiveshell.py:3049: DtypeWarning: Columns (27,28,31,32,35,36) have mixed types. Specify dtype option on import or set low_memory=False.\n",
      "  interactivity=interactivity, compiler=compiler, result=result)\n"
     ]
    },
    {
     "data": {
      "text/plain": [
       "(2550463, 40)"
      ]
     },
     "execution_count": 7,
     "metadata": {},
     "output_type": "execute_result"
    }
   ],
   "source": [
    "test = pd.read_csv(\"dlj_test.zip\",sep=';',compression='zip')\n",
    "test.shape"
   ]
  },
  {
   "cell_type": "code",
   "execution_count": 8,
   "metadata": {
    "scrolled": true
   },
   "outputs": [],
   "source": [
    "train = train.merge(topo,left_on='cell',right_on='cell', how='left')"
   ]
  },
  {
   "cell_type": "code",
   "execution_count": 9,
   "metadata": {},
   "outputs": [],
   "source": [
    "test = test.merge(topo,left_on='cell',right_on='cell', how='left')"
   ]
  },
  {
   "cell_type": "code",
   "execution_count": 10,
   "metadata": {
    "scrolled": false
   },
   "outputs": [
    {
     "data": {
      "text/plain": [
       "array([1, 2, 0], dtype=int64)"
      ]
     },
     "execution_count": 10,
     "metadata": {},
     "output_type": "execute_result"
    }
   ],
   "source": [
    "train['liste_type']=train['liste_type'].replace(['Autoroute','Train','Autres','Train,Autoroute', 'Autoroute,Train'],[0,1,2,1,0])\n",
    "train['liste_type'].unique()"
   ]
  },
  {
   "cell_type": "code",
   "execution_count": null,
   "metadata": {},
   "outputs": [],
   "source": [
    "features = [x for x in train.columns if x not in ['uid','imsi','liste_type','cell']]\n",
    "print(features)\n",
    "train_x = train[features]\n",
    "train_y = train['liste_type']\n",
    "test_x = test[features]\n",
    "test_y = test['liste_type']"
   ]
  },
  {
   "cell_type": "code",
   "execution_count": 18,
   "metadata": {
    "scrolled": false
   },
   "outputs": [],
   "source": [
    "warnings.filterwarnings('ignore')\n",
    "train_x = train_x.convert_objects(convert_numeric=True)\n",
    "test_x = test_x.convert_objects(convert_numeric=True)"
   ]
  },
  {
   "cell_type": "code",
   "execution_count": 19,
   "metadata": {},
   "outputs": [],
   "source": [
    "train_x[\"vitesse1\"] =train_x[\"distance_cell_celllag1b\"] / train_x[\"delta_lag1_date_session\"]\n",
    "train_x[\"vitesse2\"] =train_x[\"distance_cell_celllag1b\"] / train_x[\"delta_lead1_date_session\"]\n",
    "train_x[\"vitesse3\"] =train_x[\"distance_cell_celllead1b\"] / train_x[\"delta_lag1_date_session\"]\n",
    "train_x[\"vitesse4\"] =train_x[\"distance_cell_celllead1b\"] / train_x[\"delta_lead1_date_session\"]\n",
    "\n",
    "test_x[\"vitesse1\"] =test_x[\"distance_cell_celllag1b\"] / test_x[\"delta_lag1_date_session\"]\n",
    "test_x[\"vitesse2\"] =test_x[\"distance_cell_celllag1b\"] / test_x[\"delta_lead1_date_session\"]\n",
    "test_x[\"vitesse3\"] =test_x[\"distance_cell_celllead1b\"] / test_x[\"delta_lag1_date_session\"]\n",
    "test_x[\"vitesse4\"] =test_x[\"distance_cell_celllead1b\"] / test_x[\"delta_lead1_date_session\"]\n"
   ]
  },
  {
   "cell_type": "code",
   "execution_count": 62,
   "metadata": {},
   "outputs": [
    {
     "name": "stdout",
     "output_type": "stream",
     "text": [
      "['duree', 'nb_event', 'distance_autoroute', 'distance_train', 'lag1_cell_eqal', 'lag1_distance_autoroute', 'lag1_distance_train', 'lag1_duree', 'lead1_cell_egal', 'lead1_distance_autoroute', 'lead1_distance_train', 'lead1_duree', 'distance_cell_celllag1b', 'distance_cell_celllead1b', 'delta_lag1_date_session', 'delta_lead1_date_session', 'annee', 'mois', 'jour', 'is_week', 'heure', 'uniq_cell_by_hour', 'distance_parcourue_by_hour', 'max_distance_train_by_hour', 'max_distance_autoroute_by_hour', 'uniq_cell_by_demiheure', 'distance_parcourue_by_demiheure', 'max_distance_train_by_demiheure', 'max_distance_autoroute_by_demiheure', 'uniq_cell_by_quartheure', 'distance_parcourue_by_quartheure', 'max_distance_train_by_quartheure', 'max_distance_autoroute_by_quartheure', 'proba_auto', 'proba_train', 'proba_autres', 'density_lon_row', 'density_lat_row', 'density', 'vitesse1', 'vitesse2', 'vitesse3', 'vitesse4']\n"
     ]
    }
   ],
   "source": [
    "features = [x for x in train_x.columns]\n",
    "print(features)"
   ]
  },
  {
   "cell_type": "code",
   "execution_count": 20,
   "metadata": {},
   "outputs": [],
   "source": [
    "#Handling vacancy values\n",
    "train_x = train_x.fillna(0)\n",
    "test_x = test_x.fillna(0)"
   ]
  },
  {
   "cell_type": "code",
   "execution_count": 21,
   "metadata": {},
   "outputs": [],
   "source": [
    "train_x = train_x.replace([np.inf,-np.inf],0)\n",
    "test_x = test_x.replace([np.inf,-np.inf],0)"
   ]
  },
  {
   "cell_type": "code",
   "execution_count": null,
   "metadata": {},
   "outputs": [],
   "source": [
    "columns_int = ['duree','nb_event','lag1_cell_eqal','lead1_cell_egal','annee','mois','jour','heure','is_week','uniq_cell_by_hour','uniq_cell_by_demiheure','uniq_cell_by_quartheure']\n",
    "train_x[columns_int] = train_x[columns_int].astype('int8')"
   ]
  },
  {
   "cell_type": "code",
   "execution_count": null,
   "metadata": {},
   "outputs": [],
   "source": [
    "columns_float = [x for x in train_x.columns if x not in columns_int]\n",
    "train_x[columns_float] = train_x[columns_float].astype('float16')"
   ]
  },
  {
   "cell_type": "code",
   "execution_count": 22,
   "metadata": {},
   "outputs": [
    {
     "data": {
      "text/html": [
       "<div>\n",
       "<style scoped>\n",
       "    .dataframe tbody tr th:only-of-type {\n",
       "        vertical-align: middle;\n",
       "    }\n",
       "\n",
       "    .dataframe tbody tr th {\n",
       "        vertical-align: top;\n",
       "    }\n",
       "\n",
       "    .dataframe thead th {\n",
       "        text-align: right;\n",
       "    }\n",
       "</style>\n",
       "<table border=\"1\" class=\"dataframe\">\n",
       "  <thead>\n",
       "    <tr style=\"text-align: right;\">\n",
       "      <th></th>\n",
       "      <th>duree</th>\n",
       "      <th>nb_event</th>\n",
       "      <th>distance_autoroute</th>\n",
       "      <th>distance_train</th>\n",
       "      <th>lag1_cell_eqal</th>\n",
       "      <th>lag1_distance_autoroute</th>\n",
       "      <th>lag1_distance_train</th>\n",
       "      <th>lag1_duree</th>\n",
       "      <th>lead1_cell_egal</th>\n",
       "      <th>lead1_distance_autoroute</th>\n",
       "      <th>...</th>\n",
       "      <th>proba_auto</th>\n",
       "      <th>proba_train</th>\n",
       "      <th>proba_autres</th>\n",
       "      <th>density_lon_row</th>\n",
       "      <th>density_lat_row</th>\n",
       "      <th>density</th>\n",
       "      <th>vitesse1</th>\n",
       "      <th>vitesse2</th>\n",
       "      <th>vitesse3</th>\n",
       "      <th>vitesse4</th>\n",
       "    </tr>\n",
       "  </thead>\n",
       "  <tbody>\n",
       "    <tr>\n",
       "      <th>0</th>\n",
       "      <td>0</td>\n",
       "      <td>1</td>\n",
       "      <td>0.007078</td>\n",
       "      <td>0.005485</td>\n",
       "      <td>0</td>\n",
       "      <td>0.019654</td>\n",
       "      <td>0.004317</td>\n",
       "      <td>0.0</td>\n",
       "      <td>0</td>\n",
       "      <td>0.019654</td>\n",
       "      <td>...</td>\n",
       "      <td>0.0</td>\n",
       "      <td>0.0</td>\n",
       "      <td>0.0</td>\n",
       "      <td>144.0</td>\n",
       "      <td>42.0</td>\n",
       "      <td>0.026114</td>\n",
       "      <td>0.001382</td>\n",
       "      <td>0.000863</td>\n",
       "      <td>0.001382</td>\n",
       "      <td>0.000863</td>\n",
       "    </tr>\n",
       "    <tr>\n",
       "      <th>1</th>\n",
       "      <td>0</td>\n",
       "      <td>3</td>\n",
       "      <td>0.007078</td>\n",
       "      <td>0.005485</td>\n",
       "      <td>0</td>\n",
       "      <td>0.011305</td>\n",
       "      <td>0.002597</td>\n",
       "      <td>11.0</td>\n",
       "      <td>0</td>\n",
       "      <td>0.019654</td>\n",
       "      <td>...</td>\n",
       "      <td>0.0</td>\n",
       "      <td>0.0</td>\n",
       "      <td>0.0</td>\n",
       "      <td>144.0</td>\n",
       "      <td>42.0</td>\n",
       "      <td>0.026114</td>\n",
       "      <td>0.001470</td>\n",
       "      <td>0.000401</td>\n",
       "      <td>0.004605</td>\n",
       "      <td>0.001256</td>\n",
       "    </tr>\n",
       "    <tr>\n",
       "      <th>2</th>\n",
       "      <td>0</td>\n",
       "      <td>1</td>\n",
       "      <td>0.007078</td>\n",
       "      <td>0.005485</td>\n",
       "      <td>0</td>\n",
       "      <td>0.011305</td>\n",
       "      <td>0.002597</td>\n",
       "      <td>0.0</td>\n",
       "      <td>0</td>\n",
       "      <td>0.011305</td>\n",
       "      <td>...</td>\n",
       "      <td>0.0</td>\n",
       "      <td>0.0</td>\n",
       "      <td>0.0</td>\n",
       "      <td>144.0</td>\n",
       "      <td>42.0</td>\n",
       "      <td>0.026114</td>\n",
       "      <td>0.002205</td>\n",
       "      <td>0.001470</td>\n",
       "      <td>0.002205</td>\n",
       "      <td>0.001470</td>\n",
       "    </tr>\n",
       "    <tr>\n",
       "      <th>3</th>\n",
       "      <td>0</td>\n",
       "      <td>1</td>\n",
       "      <td>0.000000</td>\n",
       "      <td>0.000000</td>\n",
       "      <td>0</td>\n",
       "      <td>0.019654</td>\n",
       "      <td>0.004317</td>\n",
       "      <td>69.0</td>\n",
       "      <td>0</td>\n",
       "      <td>0.003756</td>\n",
       "      <td>...</td>\n",
       "      <td>0.0</td>\n",
       "      <td>0.0</td>\n",
       "      <td>0.0</td>\n",
       "      <td>0.0</td>\n",
       "      <td>0.0</td>\n",
       "      <td>0.000000</td>\n",
       "      <td>0.000000</td>\n",
       "      <td>0.000000</td>\n",
       "      <td>0.000000</td>\n",
       "      <td>0.000000</td>\n",
       "    </tr>\n",
       "    <tr>\n",
       "      <th>4</th>\n",
       "      <td>3</td>\n",
       "      <td>3</td>\n",
       "      <td>0.000000</td>\n",
       "      <td>0.000000</td>\n",
       "      <td>0</td>\n",
       "      <td>0.003756</td>\n",
       "      <td>0.003092</td>\n",
       "      <td>0.0</td>\n",
       "      <td>0</td>\n",
       "      <td>0.003756</td>\n",
       "      <td>...</td>\n",
       "      <td>0.0</td>\n",
       "      <td>0.0</td>\n",
       "      <td>0.0</td>\n",
       "      <td>0.0</td>\n",
       "      <td>0.0</td>\n",
       "      <td>0.000000</td>\n",
       "      <td>0.000000</td>\n",
       "      <td>0.000000</td>\n",
       "      <td>0.000000</td>\n",
       "      <td>0.000000</td>\n",
       "    </tr>\n",
       "  </tbody>\n",
       "</table>\n",
       "<p>5 rows × 43 columns</p>\n",
       "</div>"
      ],
      "text/plain": [
       "   duree  nb_event  distance_autoroute  distance_train  lag1_cell_eqal  \\\n",
       "0      0         1            0.007078        0.005485               0   \n",
       "1      0         3            0.007078        0.005485               0   \n",
       "2      0         1            0.007078        0.005485               0   \n",
       "3      0         1            0.000000        0.000000               0   \n",
       "4      3         3            0.000000        0.000000               0   \n",
       "\n",
       "   lag1_distance_autoroute  lag1_distance_train  lag1_duree  lead1_cell_egal  \\\n",
       "0                 0.019654             0.004317         0.0                0   \n",
       "1                 0.011305             0.002597        11.0                0   \n",
       "2                 0.011305             0.002597         0.0                0   \n",
       "3                 0.019654             0.004317        69.0                0   \n",
       "4                 0.003756             0.003092         0.0                0   \n",
       "\n",
       "   lead1_distance_autoroute  ...  proba_auto  proba_train  proba_autres  \\\n",
       "0                  0.019654  ...         0.0          0.0           0.0   \n",
       "1                  0.019654  ...         0.0          0.0           0.0   \n",
       "2                  0.011305  ...         0.0          0.0           0.0   \n",
       "3                  0.003756  ...         0.0          0.0           0.0   \n",
       "4                  0.003756  ...         0.0          0.0           0.0   \n",
       "\n",
       "   density_lon_row  density_lat_row   density  vitesse1  vitesse2  vitesse3  \\\n",
       "0            144.0             42.0  0.026114  0.001382  0.000863  0.001382   \n",
       "1            144.0             42.0  0.026114  0.001470  0.000401  0.004605   \n",
       "2            144.0             42.0  0.026114  0.002205  0.001470  0.002205   \n",
       "3              0.0              0.0  0.000000  0.000000  0.000000  0.000000   \n",
       "4              0.0              0.0  0.000000  0.000000  0.000000  0.000000   \n",
       "\n",
       "   vitesse4  \n",
       "0  0.000863  \n",
       "1  0.001256  \n",
       "2  0.001470  \n",
       "3  0.000000  \n",
       "4  0.000000  \n",
       "\n",
       "[5 rows x 43 columns]"
      ]
     },
     "execution_count": 22,
     "metadata": {},
     "output_type": "execute_result"
    }
   ],
   "source": [
    "train_x.head()"
   ]
  },
  {
   "cell_type": "code",
   "execution_count": 23,
   "metadata": {},
   "outputs": [
    {
     "data": {
      "text/html": [
       "<div>\n",
       "<style scoped>\n",
       "    .dataframe tbody tr th:only-of-type {\n",
       "        vertical-align: middle;\n",
       "    }\n",
       "\n",
       "    .dataframe tbody tr th {\n",
       "        vertical-align: top;\n",
       "    }\n",
       "\n",
       "    .dataframe thead th {\n",
       "        text-align: right;\n",
       "    }\n",
       "</style>\n",
       "<table border=\"1\" class=\"dataframe\">\n",
       "  <thead>\n",
       "    <tr style=\"text-align: right;\">\n",
       "      <th></th>\n",
       "      <th>duree</th>\n",
       "      <th>nb_event</th>\n",
       "      <th>distance_autoroute</th>\n",
       "      <th>distance_train</th>\n",
       "      <th>lag1_cell_eqal</th>\n",
       "      <th>lag1_distance_autoroute</th>\n",
       "      <th>lag1_distance_train</th>\n",
       "      <th>lag1_duree</th>\n",
       "      <th>lead1_cell_egal</th>\n",
       "      <th>lead1_distance_autoroute</th>\n",
       "      <th>...</th>\n",
       "      <th>proba_auto</th>\n",
       "      <th>proba_train</th>\n",
       "      <th>proba_autres</th>\n",
       "      <th>density_lon_row</th>\n",
       "      <th>density_lat_row</th>\n",
       "      <th>density</th>\n",
       "      <th>vitesse1</th>\n",
       "      <th>vitesse2</th>\n",
       "      <th>vitesse3</th>\n",
       "      <th>vitesse4</th>\n",
       "    </tr>\n",
       "  </thead>\n",
       "  <tbody>\n",
       "    <tr>\n",
       "      <th>0</th>\n",
       "      <td>0</td>\n",
       "      <td>2</td>\n",
       "      <td>0.01535</td>\n",
       "      <td>0.002559</td>\n",
       "      <td>0</td>\n",
       "      <td>0.0000</td>\n",
       "      <td>0.000000</td>\n",
       "      <td>0.0</td>\n",
       "      <td>0</td>\n",
       "      <td>0.009100</td>\n",
       "      <td>...</td>\n",
       "      <td>1.0</td>\n",
       "      <td>0.0</td>\n",
       "      <td>0.0</td>\n",
       "      <td>139.0</td>\n",
       "      <td>52.0</td>\n",
       "      <td>0.022103</td>\n",
       "      <td>0.0000</td>\n",
       "      <td>0.00000</td>\n",
       "      <td>0.001900</td>\n",
       "      <td>0.003800</td>\n",
       "    </tr>\n",
       "    <tr>\n",
       "      <th>1</th>\n",
       "      <td>0</td>\n",
       "      <td>2</td>\n",
       "      <td>0.01535</td>\n",
       "      <td>0.002559</td>\n",
       "      <td>0</td>\n",
       "      <td>0.0091</td>\n",
       "      <td>0.004939</td>\n",
       "      <td>0.0</td>\n",
       "      <td>0</td>\n",
       "      <td>0.009100</td>\n",
       "      <td>...</td>\n",
       "      <td>1.0</td>\n",
       "      <td>0.0</td>\n",
       "      <td>0.0</td>\n",
       "      <td>139.0</td>\n",
       "      <td>52.0</td>\n",
       "      <td>0.022103</td>\n",
       "      <td>0.0038</td>\n",
       "      <td>0.00285</td>\n",
       "      <td>0.003800</td>\n",
       "      <td>0.002850</td>\n",
       "    </tr>\n",
       "    <tr>\n",
       "      <th>2</th>\n",
       "      <td>0</td>\n",
       "      <td>2</td>\n",
       "      <td>0.01535</td>\n",
       "      <td>0.002559</td>\n",
       "      <td>0</td>\n",
       "      <td>0.0000</td>\n",
       "      <td>0.000000</td>\n",
       "      <td>0.0</td>\n",
       "      <td>0</td>\n",
       "      <td>0.009100</td>\n",
       "      <td>...</td>\n",
       "      <td>1.0</td>\n",
       "      <td>0.0</td>\n",
       "      <td>0.0</td>\n",
       "      <td>139.0</td>\n",
       "      <td>52.0</td>\n",
       "      <td>0.022103</td>\n",
       "      <td>0.0000</td>\n",
       "      <td>0.00000</td>\n",
       "      <td>0.001140</td>\n",
       "      <td>0.011401</td>\n",
       "    </tr>\n",
       "    <tr>\n",
       "      <th>3</th>\n",
       "      <td>0</td>\n",
       "      <td>4</td>\n",
       "      <td>0.01535</td>\n",
       "      <td>0.002559</td>\n",
       "      <td>0</td>\n",
       "      <td>0.0000</td>\n",
       "      <td>0.000547</td>\n",
       "      <td>109.0</td>\n",
       "      <td>0</td>\n",
       "      <td>0.043098</td>\n",
       "      <td>...</td>\n",
       "      <td>1.0</td>\n",
       "      <td>0.0</td>\n",
       "      <td>0.0</td>\n",
       "      <td>139.0</td>\n",
       "      <td>52.0</td>\n",
       "      <td>0.022103</td>\n",
       "      <td>0.0000</td>\n",
       "      <td>0.00000</td>\n",
       "      <td>0.000000</td>\n",
       "      <td>0.000000</td>\n",
       "    </tr>\n",
       "    <tr>\n",
       "      <th>4</th>\n",
       "      <td>3</td>\n",
       "      <td>7</td>\n",
       "      <td>0.01535</td>\n",
       "      <td>0.002559</td>\n",
       "      <td>0</td>\n",
       "      <td>0.0000</td>\n",
       "      <td>0.000000</td>\n",
       "      <td>0.0</td>\n",
       "      <td>0</td>\n",
       "      <td>0.017555</td>\n",
       "      <td>...</td>\n",
       "      <td>1.0</td>\n",
       "      <td>0.0</td>\n",
       "      <td>0.0</td>\n",
       "      <td>139.0</td>\n",
       "      <td>52.0</td>\n",
       "      <td>0.022103</td>\n",
       "      <td>-0.0000</td>\n",
       "      <td>0.00000</td>\n",
       "      <td>-0.001699</td>\n",
       "      <td>0.000000</td>\n",
       "    </tr>\n",
       "  </tbody>\n",
       "</table>\n",
       "<p>5 rows × 43 columns</p>\n",
       "</div>"
      ],
      "text/plain": [
       "   duree  nb_event  distance_autoroute  distance_train  lag1_cell_eqal  \\\n",
       "0      0         2             0.01535        0.002559               0   \n",
       "1      0         2             0.01535        0.002559               0   \n",
       "2      0         2             0.01535        0.002559               0   \n",
       "3      0         4             0.01535        0.002559               0   \n",
       "4      3         7             0.01535        0.002559               0   \n",
       "\n",
       "   lag1_distance_autoroute  lag1_distance_train  lag1_duree  lead1_cell_egal  \\\n",
       "0                   0.0000             0.000000         0.0                0   \n",
       "1                   0.0091             0.004939         0.0                0   \n",
       "2                   0.0000             0.000000         0.0                0   \n",
       "3                   0.0000             0.000547       109.0                0   \n",
       "4                   0.0000             0.000000         0.0                0   \n",
       "\n",
       "   lead1_distance_autoroute  ...  proba_auto  proba_train  proba_autres  \\\n",
       "0                  0.009100  ...         1.0          0.0           0.0   \n",
       "1                  0.009100  ...         1.0          0.0           0.0   \n",
       "2                  0.009100  ...         1.0          0.0           0.0   \n",
       "3                  0.043098  ...         1.0          0.0           0.0   \n",
       "4                  0.017555  ...         1.0          0.0           0.0   \n",
       "\n",
       "   density_lon_row  density_lat_row   density  vitesse1  vitesse2  vitesse3  \\\n",
       "0            139.0             52.0  0.022103    0.0000   0.00000  0.001900   \n",
       "1            139.0             52.0  0.022103    0.0038   0.00285  0.003800   \n",
       "2            139.0             52.0  0.022103    0.0000   0.00000  0.001140   \n",
       "3            139.0             52.0  0.022103    0.0000   0.00000  0.000000   \n",
       "4            139.0             52.0  0.022103   -0.0000   0.00000 -0.001699   \n",
       "\n",
       "   vitesse4  \n",
       "0  0.003800  \n",
       "1  0.002850  \n",
       "2  0.011401  \n",
       "3  0.000000  \n",
       "4  0.000000  \n",
       "\n",
       "[5 rows x 43 columns]"
      ]
     },
     "execution_count": 23,
     "metadata": {},
     "output_type": "execute_result"
    }
   ],
   "source": [
    "test_x.head()"
   ]
  },
  {
   "cell_type": "markdown",
   "metadata": {},
   "source": [
    "## Random Forest Model"
   ]
  },
  {
   "cell_type": "code",
   "execution_count": 24,
   "metadata": {
    "scrolled": false
   },
   "outputs": [
    {
     "name": "stderr",
     "output_type": "stream",
     "text": [
      "[Parallel(n_jobs=1)]: Using backend SequentialBackend with 1 concurrent workers.\n",
      "[Parallel(n_jobs=1)]: Done  50 out of  50 | elapsed: 47.2min finished\n"
     ]
    },
    {
     "name": "stdout",
     "output_type": "stream",
     "text": [
      "Out of bags score:  0.9981476770613356\n"
     ]
    },
    {
     "name": "stderr",
     "output_type": "stream",
     "text": [
      "[Parallel(n_jobs=1)]: Using backend SequentialBackend with 1 concurrent workers.\n",
      "[Parallel(n_jobs=1)]: Done  50 out of  50 | elapsed:  2.8min finished\n"
     ]
    },
    {
     "name": "stdout",
     "output_type": "stream",
     "text": [
      "Accuracy:  0.9999994023800811\n"
     ]
    }
   ],
   "source": [
    "#with default parameters\n",
    "rf = RandomForestClassifier(n_estimators =50 ,max_features = 'sqrt', oob_score = True, verbose = 1, random_state = 123)\n",
    "rf.fit(train_x,train_y)\n",
    "print(\"Out of bags score: \",rf.oob_score_)\n",
    "print(\"Accuracy: \",accuracy_score(train_y,rf.predict(train_x)))"
   ]
  },
  {
   "cell_type": "markdown",
   "metadata": {},
   "source": [
    "##  KFold Cross Validation"
   ]
  },
  {
   "cell_type": "code",
   "execution_count": 52,
   "metadata": {},
   "outputs": [],
   "source": [
    "from sklearn.model_selection import StratifiedKFold\n",
    "from sklearn.metrics import accuracy_score,log_loss\n",
    "\n",
    "nr_fold = 5\n",
    "random_state = 1234\n",
    "folds = StratifiedKFold(n_splits = nr_fold, \n",
    "                            shuffle = True, \n",
    "                            random_state = random_state)"
   ]
  },
  {
   "cell_type": "code",
   "execution_count": 63,
   "metadata": {
    "scrolled": false
   },
   "outputs": [
    {
     "name": "stderr",
     "output_type": "stream",
     "text": [
      "[Parallel(n_jobs=1)]: Using backend SequentialBackend with 1 concurrent workers.\n",
      "[Parallel(n_jobs=1)]: Done  30 out of  30 | elapsed: 21.9min finished\n",
      "[Parallel(n_jobs=1)]: Using backend SequentialBackend with 1 concurrent workers.\n",
      "[Parallel(n_jobs=1)]: Done  30 out of  30 | elapsed:   15.2s finished\n",
      "[Parallel(n_jobs=1)]: Using backend SequentialBackend with 1 concurrent workers.\n",
      "[Parallel(n_jobs=1)]: Done  30 out of  30 | elapsed:   20.2s finished\n",
      "[Parallel(n_jobs=1)]: Using backend SequentialBackend with 1 concurrent workers.\n",
      "[Parallel(n_jobs=1)]: Done  30 out of  30 | elapsed:   16.2s finished\n"
     ]
    },
    {
     "name": "stdout",
     "output_type": "stream",
     "text": [
      "RFC Model no 1-fold accuracy_score is 0.9982146112035761, LogLoss score is 0.010448161193815194,\n",
      "it takes 1525.821 seconds to perform cross validation\n"
     ]
    },
    {
     "name": "stderr",
     "output_type": "stream",
     "text": [
      "[Parallel(n_jobs=1)]: Using backend SequentialBackend with 1 concurrent workers.\n",
      "[Parallel(n_jobs=1)]: Done  30 out of  30 | elapsed: 21.9min finished\n",
      "[Parallel(n_jobs=1)]: Using backend SequentialBackend with 1 concurrent workers.\n",
      "[Parallel(n_jobs=1)]: Done  30 out of  30 | elapsed:   15.2s finished\n",
      "[Parallel(n_jobs=1)]: Using backend SequentialBackend with 1 concurrent workers.\n",
      "[Parallel(n_jobs=1)]: Done  30 out of  30 | elapsed:   21.5s finished\n",
      "[Parallel(n_jobs=1)]: Using backend SequentialBackend with 1 concurrent workers.\n",
      "[Parallel(n_jobs=1)]: Done  30 out of  30 | elapsed:   14.9s finished\n"
     ]
    },
    {
     "name": "stdout",
     "output_type": "stream",
     "text": [
      "RFC Model no 2-fold accuracy_score is 0.9979690891180428, LogLoss score is 0.011273307046038001,\n",
      "it takes 3041.480 seconds to perform cross validation\n"
     ]
    },
    {
     "name": "stderr",
     "output_type": "stream",
     "text": [
      "[Parallel(n_jobs=1)]: Using backend SequentialBackend with 1 concurrent workers.\n",
      "[Parallel(n_jobs=1)]: Done  30 out of  30 | elapsed: 22.1min finished\n",
      "[Parallel(n_jobs=1)]: Using backend SequentialBackend with 1 concurrent workers.\n",
      "[Parallel(n_jobs=1)]: Done  30 out of  30 | elapsed:   16.1s finished\n",
      "[Parallel(n_jobs=1)]: Using backend SequentialBackend with 1 concurrent workers.\n",
      "[Parallel(n_jobs=1)]: Done  30 out of  30 | elapsed:   21.0s finished\n",
      "[Parallel(n_jobs=1)]: Using backend SequentialBackend with 1 concurrent workers.\n",
      "[Parallel(n_jobs=1)]: Done  30 out of  30 | elapsed:   14.6s finished\n"
     ]
    },
    {
     "name": "stdout",
     "output_type": "stream",
     "text": [
      "RFC Model no 3-fold accuracy_score is 0.9980577350700834, LogLoss score is 0.010817604924693847,\n",
      "it takes 4560.233 seconds to perform cross validation\n"
     ]
    },
    {
     "name": "stderr",
     "output_type": "stream",
     "text": [
      "[Parallel(n_jobs=1)]: Using backend SequentialBackend with 1 concurrent workers.\n",
      "[Parallel(n_jobs=1)]: Done  30 out of  30 | elapsed: 20.9min finished\n",
      "[Parallel(n_jobs=1)]: Using backend SequentialBackend with 1 concurrent workers.\n",
      "[Parallel(n_jobs=1)]: Done  30 out of  30 | elapsed:   14.8s finished\n",
      "[Parallel(n_jobs=1)]: Using backend SequentialBackend with 1 concurrent workers.\n",
      "[Parallel(n_jobs=1)]: Done  30 out of  30 | elapsed:   18.8s finished\n",
      "[Parallel(n_jobs=1)]: Using backend SequentialBackend with 1 concurrent workers.\n",
      "[Parallel(n_jobs=1)]: Done  30 out of  30 | elapsed:   14.4s finished\n"
     ]
    },
    {
     "name": "stdout",
     "output_type": "stream",
     "text": [
      "RFC Model no 4-fold accuracy_score is 0.9980920982188435, LogLoss score is 0.010724054090481749,\n",
      "it takes 5999.757 seconds to perform cross validation\n"
     ]
    },
    {
     "name": "stderr",
     "output_type": "stream",
     "text": [
      "[Parallel(n_jobs=1)]: Using backend SequentialBackend with 1 concurrent workers.\n",
      "[Parallel(n_jobs=1)]: Done  30 out of  30 | elapsed: 21.8min finished\n",
      "[Parallel(n_jobs=1)]: Using backend SequentialBackend with 1 concurrent workers.\n",
      "[Parallel(n_jobs=1)]: Done  30 out of  30 | elapsed:   15.8s finished\n",
      "[Parallel(n_jobs=1)]: Using backend SequentialBackend with 1 concurrent workers.\n",
      "[Parallel(n_jobs=1)]: Done  30 out of  30 | elapsed:   18.8s finished\n",
      "[Parallel(n_jobs=1)]: Using backend SequentialBackend with 1 concurrent workers.\n",
      "[Parallel(n_jobs=1)]: Done  30 out of  30 | elapsed:   15.4s finished\n"
     ]
    },
    {
     "name": "stdout",
     "output_type": "stream",
     "text": [
      "RFC Model no 5-fold accuracy_score is 0.9980462797141781, LogLoss score is 0.01087161736890404,\n",
      "it takes 7492.333 seconds to perform cross validation\n"
     ]
    }
   ],
   "source": [
    "warnings.filterwarnings('ignore')\n",
    "# utilise pour stocker les resultats\n",
    "oof_preds  = np.zeros((len(train)))\n",
    "\n",
    "test_preds = []\n",
    "importances = pd.DataFrame()\n",
    "clfs = []\n",
    "start_time=time.time()\n",
    "    \n",
    "for fold_, (trn_, val_) in enumerate(folds.split(train,train_y)):\n",
    "\n",
    "        trn_x, trn_y = train_x.iloc[trn_], train_y.iloc[trn_]\n",
    "        val_x, val_y = train_x.iloc[val_], train_y.iloc[val_]\n",
    "    \n",
    "        clf = RandomForestClassifier(n_estimators = 30,max_features = 'sqrt', oob_score = True, verbose = 1, random_state = 1234)\n",
    "        clf.fit(trn_x, trn_y)\n",
    "    \n",
    "        oof_preds[val_] = clf.predict(val_x)\n",
    "        test_preds.append(clf.predict(test_x) )  \n",
    "        imp_df = pd.DataFrame()\n",
    "        imp_df['feature'] = features\n",
    "        imp_df['gain'] = clf.feature_importances_\n",
    "        imp_df['fold'] = fold_ + 1\n",
    "        importances = pd.concat([importances, imp_df], axis=0, sort=False)\n",
    "        clfs.append(clf)\n",
    "        \n",
    "        fold_accuracy = accuracy_score(val_y, oof_preds[val_])\n",
    "        fold_logloss = log_loss(val_y,clf.predict_proba(val_x))\n",
    "\n",
    "        print('RFC Model no {}-fold accuracy_score is {}, LogLoss score is {},'.format(fold_ + 1,fold_accuracy,fold_logloss))\n",
    "        end_time = time.time()\n",
    "        print(\"it takes %.3f seconds to perform cross validation\" % (end_time - start_time))\n",
    "        "
   ]
  },
  {
   "cell_type": "code",
   "execution_count": 65,
   "metadata": {},
   "outputs": [],
   "source": [
    "#Features's importances\n",
    "def print_importances(importances_):\n",
    "    mean_gain = importances_[['gain', 'feature']].groupby('feature').mean()\n",
    "    importances_['mean_gain'] = importances_['feature'].map(mean_gain['gain'])\n",
    "    plt.figure(figsize=(13, 11))\n",
    "    data_imp = importances_.sort_values('mean_gain', ascending=False)\n",
    "    sns.barplot(x='gain', y='feature', data=data_imp[:100])\n",
    "    plt.tight_layout()\n",
    "    plt.savefig('importances_v2.png')\n",
    "    plt.show()"
   ]
  },
  {
   "cell_type": "code",
   "execution_count": 66,
   "metadata": {},
   "outputs": [
    {
     "data": {
      "image/png": "[encoded data removed]",
      "text/plain": [
       "<Figure size 936x792 with 1 Axes>"
      ]
     },
     "metadata": {
      "needs_background": "light"
     },
     "output_type": "display_data"
    }
   ],
   "source": [
    "print_importances(importances)"
   ]
  },
  {
   "cell_type": "markdown",
   "metadata": {},
   "source": [
    "## Validation"
   ]
  },
  {
   "cell_type": "code",
   "execution_count": 67,
   "metadata": {
    "scrolled": true
   },
   "outputs": [
    {
     "name": "stdout",
     "output_type": "stream",
     "text": [
      "Accuracy:  0.9980759626710662\n"
     ]
    }
   ],
   "source": [
    "print('Accuracy: ',accuracy_score(train_y,oof_preds))"
   ]
  },
  {
   "cell_type": "code",
   "execution_count": 68,
   "metadata": {},
   "outputs": [
    {
     "name": "stdout",
     "output_type": "stream",
     "text": [
      "              precision    recall  f1-score   support\n",
      "\n",
      "   Autoroute       1.00      1.00      1.00   2465229\n",
      "       Train       1.00      0.99      0.99    812257\n",
      "      Autres       1.00      1.00      1.00   6762340\n",
      "\n",
      "   micro avg       1.00      1.00      1.00  10039826\n",
      "   macro avg       1.00      0.99      1.00  10039826\n",
      "weighted avg       1.00      1.00      1.00  10039826\n",
      "\n"
     ]
    }
   ],
   "source": [
    "from sklearn.metrics import classification_report \n",
    "target_names = ['Autoroute','Train','Autres']\n",
    "sampleClassificationReport = classification_report(train_y,oof_preds,target_names = target_names)\n",
    "print(sampleClassificationReport)"
   ]
  },
  {
   "cell_type": "code",
   "execution_count": 69,
   "metadata": {},
   "outputs": [],
   "source": [
    "def plot_classification_report(cr, title='Classification report ',fontsize=16, with_avg_total=False, cmap=plt.cm.Blues):\n",
    "\n",
    "    lines = cr.split('\\n')\n",
    "    # print(len(lines))\n",
    "    classes = []\n",
    "    plotMat = []\n",
    "    for line in lines[2 : (len(lines) - 5)]:\n",
    "        # print(line)\n",
    "        t = line.split()\n",
    "        # print(t)\n",
    "        classes.append(t[0])\n",
    "        v = [float(x) for x in t[1: len(t) - 1]]\n",
    "        print(v)\n",
    "        plotMat.append(v)\n",
    "\n",
    "    if with_avg_total:\n",
    "        aveTotal = lines[len(lines) - 1].split()\n",
    "        classes.append('avg/total')\n",
    "        vAveTotal = [float(x) for x in t[1:len(aveTotal) - 1]]\n",
    "        plotMat.append(vAveTotal)\n",
    "\n",
    "    plt.figure(figsize=(10, 8))\n",
    "    plt.imshow(plotMat, interpolation='nearest', cmap=cmap)\n",
    "    plt.title(title)\n",
    "    plt.colorbar()\n",
    "    x_tick_marks = np.arange(3)\n",
    "    y_tick_marks = np.arange(len(classes))\n",
    "    plt.xticks(x_tick_marks, ['precision', 'recall', 'f1-score'],fontsize=12)\n",
    "    plt.yticks(y_tick_marks, classes,fontsize=12)\n",
    "    plt.tight_layout()\n",
    "    plt.ylabel('Classes',fontsize=16)\n",
    "    plt.xlabel('Measures',fontsize=16)"
   ]
  },
  {
   "cell_type": "code",
   "execution_count": 71,
   "metadata": {},
   "outputs": [
    {
     "name": "stdout",
     "output_type": "stream",
     "text": [
      "[1.0, 1.0, 1.0]\n",
      "[1.0, 0.99, 0.99]\n",
      "[1.0, 1.0, 1.0]\n"
     ]
    },
    {
     "data": {
      "image/png": "[encoded data removed]",
      "text/plain": [
       "<Figure size 720x576 with 2 Axes>"
      ]
     },
     "metadata": {
      "needs_background": "light"
     },
     "output_type": "display_data"
    }
   ],
   "source": [
    "plot_classification_report(sampleClassificationReport)\n",
    "plt.savefig('rf2_classif_report.png', dpi=200, format='png')"
   ]
  },
  {
   "cell_type": "markdown",
   "metadata": {},
   "source": [
    "# Vote"
   ]
  },
  {
   "cell_type": "code",
   "execution_count": 72,
   "metadata": {},
   "outputs": [],
   "source": [
    "vote_df = pd.DataFrame()\n",
    "vote_df['cv0'] = test_preds[0] \n",
    "vote_df['cv1'] = test_preds[1] \n",
    "vote_df['cv2'] = test_preds[2] \n",
    "vote_df['cv3'] = test_preds[3] \n",
    "vote_df['cv4'] = test_preds[4] "
   ]
  },
  {
   "cell_type": "code",
   "execution_count": 73,
   "metadata": {},
   "outputs": [],
   "source": [
    "mask0 = pd.concat([vote_df[column] == 0 for column in vote_df], axis=1, keys=vote_df.columns)\n",
    "result0 =vote_df[mask0].isnull().sum(axis=1)\n",
    "\n",
    "mask1 = pd.concat([vote_df[column] == 1 for column in vote_df], axis=1, keys=vote_df.columns)\n",
    "result1 =vote_df[mask1].isnull().sum(axis=1)\n",
    "\n",
    "mask2= pd.concat([vote_df[column] == 2 for column in vote_df], axis=1, keys=vote_df.columns)\n",
    "result2 =vote_df[mask2].isnull().sum(axis=1)"
   ]
  },
  {
   "cell_type": "code",
   "execution_count": 74,
   "metadata": {},
   "outputs": [],
   "source": [
    "vote_df['sum0'] = result0\n",
    "vote_df['sum1'] = result1\n",
    "vote_df['sum2'] = result2"
   ]
  },
  {
   "cell_type": "code",
   "execution_count": 75,
   "metadata": {},
   "outputs": [
    {
     "data": {
      "text/plain": [
       "(2550463, 8)"
      ]
     },
     "execution_count": 75,
     "metadata": {},
     "output_type": "execute_result"
    }
   ],
   "source": [
    "vote_df.shape"
   ]
  },
  {
   "cell_type": "code",
   "execution_count": 76,
   "metadata": {},
   "outputs": [],
   "source": [
    "vote_df['final_vote'] =0\n",
    "vote_df['final_vote'] = np.where((vote_df['sum0'] <vote_df['sum1']) & (vote_df['sum0'] <vote_df['sum2']), 0,vote_df['final_vote'] )\n",
    "vote_df['final_vote'] = np.where((vote_df['sum1'] <vote_df['sum0']) & (vote_df['sum1'] <vote_df['sum2']), 1,vote_df['final_vote'] )\n",
    "vote_df['final_vote'] = np.where((vote_df['sum2'] <vote_df['sum0']) & (vote_df['sum2'] <vote_df['sum1']), 2,vote_df['final_vote'] )\n"
   ]
  },
  {
   "cell_type": "code",
   "execution_count": 77,
   "metadata": {},
   "outputs": [
    {
     "data": {
      "text/html": [
       "<div>\n",
       "<style scoped>\n",
       "    .dataframe tbody tr th:only-of-type {\n",
       "        vertical-align: middle;\n",
       "    }\n",
       "\n",
       "    .dataframe tbody tr th {\n",
       "        vertical-align: top;\n",
       "    }\n",
       "\n",
       "    .dataframe thead th {\n",
       "        text-align: right;\n",
       "    }\n",
       "</style>\n",
       "<table border=\"1\" class=\"dataframe\">\n",
       "  <thead>\n",
       "    <tr style=\"text-align: right;\">\n",
       "      <th></th>\n",
       "      <th>cv0</th>\n",
       "      <th>cv1</th>\n",
       "      <th>cv2</th>\n",
       "      <th>cv3</th>\n",
       "      <th>cv4</th>\n",
       "      <th>sum0</th>\n",
       "      <th>sum1</th>\n",
       "      <th>sum2</th>\n",
       "      <th>final_vote</th>\n",
       "    </tr>\n",
       "  </thead>\n",
       "  <tbody>\n",
       "    <tr>\n",
       "      <th>0</th>\n",
       "      <td>0</td>\n",
       "      <td>0</td>\n",
       "      <td>0</td>\n",
       "      <td>0</td>\n",
       "      <td>0</td>\n",
       "      <td>0</td>\n",
       "      <td>5</td>\n",
       "      <td>5</td>\n",
       "      <td>0</td>\n",
       "    </tr>\n",
       "    <tr>\n",
       "      <th>1</th>\n",
       "      <td>0</td>\n",
       "      <td>0</td>\n",
       "      <td>0</td>\n",
       "      <td>0</td>\n",
       "      <td>0</td>\n",
       "      <td>0</td>\n",
       "      <td>5</td>\n",
       "      <td>5</td>\n",
       "      <td>0</td>\n",
       "    </tr>\n",
       "    <tr>\n",
       "      <th>2</th>\n",
       "      <td>0</td>\n",
       "      <td>0</td>\n",
       "      <td>0</td>\n",
       "      <td>0</td>\n",
       "      <td>0</td>\n",
       "      <td>0</td>\n",
       "      <td>5</td>\n",
       "      <td>5</td>\n",
       "      <td>0</td>\n",
       "    </tr>\n",
       "    <tr>\n",
       "      <th>3</th>\n",
       "      <td>0</td>\n",
       "      <td>0</td>\n",
       "      <td>0</td>\n",
       "      <td>0</td>\n",
       "      <td>0</td>\n",
       "      <td>0</td>\n",
       "      <td>5</td>\n",
       "      <td>5</td>\n",
       "      <td>0</td>\n",
       "    </tr>\n",
       "    <tr>\n",
       "      <th>4</th>\n",
       "      <td>0</td>\n",
       "      <td>0</td>\n",
       "      <td>0</td>\n",
       "      <td>0</td>\n",
       "      <td>0</td>\n",
       "      <td>0</td>\n",
       "      <td>5</td>\n",
       "      <td>5</td>\n",
       "      <td>0</td>\n",
       "    </tr>\n",
       "    <tr>\n",
       "      <th>5</th>\n",
       "      <td>0</td>\n",
       "      <td>0</td>\n",
       "      <td>0</td>\n",
       "      <td>0</td>\n",
       "      <td>0</td>\n",
       "      <td>0</td>\n",
       "      <td>5</td>\n",
       "      <td>5</td>\n",
       "      <td>0</td>\n",
       "    </tr>\n",
       "    <tr>\n",
       "      <th>6</th>\n",
       "      <td>0</td>\n",
       "      <td>0</td>\n",
       "      <td>0</td>\n",
       "      <td>0</td>\n",
       "      <td>0</td>\n",
       "      <td>0</td>\n",
       "      <td>5</td>\n",
       "      <td>5</td>\n",
       "      <td>0</td>\n",
       "    </tr>\n",
       "    <tr>\n",
       "      <th>7</th>\n",
       "      <td>0</td>\n",
       "      <td>0</td>\n",
       "      <td>0</td>\n",
       "      <td>0</td>\n",
       "      <td>0</td>\n",
       "      <td>0</td>\n",
       "      <td>5</td>\n",
       "      <td>5</td>\n",
       "      <td>0</td>\n",
       "    </tr>\n",
       "    <tr>\n",
       "      <th>8</th>\n",
       "      <td>0</td>\n",
       "      <td>0</td>\n",
       "      <td>0</td>\n",
       "      <td>0</td>\n",
       "      <td>0</td>\n",
       "      <td>0</td>\n",
       "      <td>5</td>\n",
       "      <td>5</td>\n",
       "      <td>0</td>\n",
       "    </tr>\n",
       "    <tr>\n",
       "      <th>9</th>\n",
       "      <td>0</td>\n",
       "      <td>0</td>\n",
       "      <td>0</td>\n",
       "      <td>0</td>\n",
       "      <td>0</td>\n",
       "      <td>0</td>\n",
       "      <td>5</td>\n",
       "      <td>5</td>\n",
       "      <td>0</td>\n",
       "    </tr>\n",
       "  </tbody>\n",
       "</table>\n",
       "</div>"
      ],
      "text/plain": [
       "   cv0  cv1  cv2  cv3  cv4  sum0  sum1  sum2  final_vote\n",
       "0    0    0    0    0    0     0     5     5           0\n",
       "1    0    0    0    0    0     0     5     5           0\n",
       "2    0    0    0    0    0     0     5     5           0\n",
       "3    0    0    0    0    0     0     5     5           0\n",
       "4    0    0    0    0    0     0     5     5           0\n",
       "5    0    0    0    0    0     0     5     5           0\n",
       "6    0    0    0    0    0     0     5     5           0\n",
       "7    0    0    0    0    0     0     5     5           0\n",
       "8    0    0    0    0    0     0     5     5           0\n",
       "9    0    0    0    0    0     0     5     5           0"
      ]
     },
     "execution_count": 77,
     "metadata": {},
     "output_type": "execute_result"
    }
   ],
   "source": [
    "vote_df.head(10)"
   ]
  },
  {
   "cell_type": "markdown",
   "metadata": {},
   "source": [
    "# Submission"
   ]
  },
  {
   "cell_type": "code",
   "execution_count": 78,
   "metadata": {},
   "outputs": [],
   "source": [
    "preds_ = vote_df['final_vote'].values"
   ]
  },
  {
   "cell_type": "code",
   "execution_count": 79,
   "metadata": {},
   "outputs": [],
   "source": [
    "submission = pd.DataFrame()\n",
    "submission['uid'] = test['uid']\n",
    "submission['type'] = np.round(preds_)"
   ]
  },
  {
   "cell_type": "code",
   "execution_count": 80,
   "metadata": {},
   "outputs": [
    {
     "data": {
      "text/html": [
       "<div>\n",
       "<style scoped>\n",
       "    .dataframe tbody tr th:only-of-type {\n",
       "        vertical-align: middle;\n",
       "    }\n",
       "\n",
       "    .dataframe tbody tr th {\n",
       "        vertical-align: top;\n",
       "    }\n",
       "\n",
       "    .dataframe thead th {\n",
       "        text-align: right;\n",
       "    }\n",
       "</style>\n",
       "<table border=\"1\" class=\"dataframe\">\n",
       "  <thead>\n",
       "    <tr style=\"text-align: right;\">\n",
       "      <th></th>\n",
       "      <th>uid</th>\n",
       "      <th>type</th>\n",
       "    </tr>\n",
       "  </thead>\n",
       "  <tbody>\n",
       "    <tr>\n",
       "      <th>0</th>\n",
       "      <td>1233408,1307712</td>\n",
       "      <td>0</td>\n",
       "    </tr>\n",
       "    <tr>\n",
       "      <th>1</th>\n",
       "      <td>1233592,1307896</td>\n",
       "      <td>0</td>\n",
       "    </tr>\n",
       "    <tr>\n",
       "      <th>2</th>\n",
       "      <td>1233600,1307904</td>\n",
       "      <td>0</td>\n",
       "    </tr>\n",
       "    <tr>\n",
       "      <th>3</th>\n",
       "      <td>1435847,1436060,1497208,1496920</td>\n",
       "      <td>0</td>\n",
       "    </tr>\n",
       "    <tr>\n",
       "      <th>4</th>\n",
       "      <td>680313,5923553,682297,5921569,682339,683263,59...</td>\n",
       "      <td>0</td>\n",
       "    </tr>\n",
       "  </tbody>\n",
       "</table>\n",
       "</div>"
      ],
      "text/plain": [
       "                                                 uid  type\n",
       "0                                    1233408,1307712     0\n",
       "1                                    1233592,1307896     0\n",
       "2                                    1233600,1307904     0\n",
       "3                    1435847,1436060,1497208,1496920     0\n",
       "4  680313,5923553,682297,5921569,682339,683263,59...     0"
      ]
     },
     "execution_count": 80,
     "metadata": {},
     "output_type": "execute_result"
    }
   ],
   "source": [
    "submission.head()"
   ]
  },
  {
   "cell_type": "code",
   "execution_count": 81,
   "metadata": {},
   "outputs": [
    {
     "data": {
      "text/plain": [
       "(6610545, 2)"
      ]
     },
     "execution_count": 81,
     "metadata": {},
     "output_type": "execute_result"
    }
   ],
   "source": [
    "uid_liste = pd.read_csv(\"uid_ref.csv\",sep=';')\n",
    "uid_liste.shape"
   ]
  },
  {
   "cell_type": "code",
   "execution_count": 82,
   "metadata": {},
   "outputs": [],
   "source": [
    "submission = submission.merge(uid_liste, left_on='uid', right_on=\"uid_liste\", how='inner')"
   ]
  },
  {
   "cell_type": "code",
   "execution_count": 83,
   "metadata": {},
   "outputs": [
    {
     "data": {
      "text/html": [
       "<div>\n",
       "<style scoped>\n",
       "    .dataframe tbody tr th:only-of-type {\n",
       "        vertical-align: middle;\n",
       "    }\n",
       "\n",
       "    .dataframe tbody tr th {\n",
       "        vertical-align: top;\n",
       "    }\n",
       "\n",
       "    .dataframe thead th {\n",
       "        text-align: right;\n",
       "    }\n",
       "</style>\n",
       "<table border=\"1\" class=\"dataframe\">\n",
       "  <thead>\n",
       "    <tr style=\"text-align: right;\">\n",
       "      <th></th>\n",
       "      <th>uid</th>\n",
       "      <th>type</th>\n",
       "      <th>uid_liste</th>\n",
       "      <th>uids</th>\n",
       "    </tr>\n",
       "  </thead>\n",
       "  <tbody>\n",
       "    <tr>\n",
       "      <th>0</th>\n",
       "      <td>1233408,1307712</td>\n",
       "      <td>0</td>\n",
       "      <td>1233408,1307712</td>\n",
       "      <td>1233408</td>\n",
       "    </tr>\n",
       "    <tr>\n",
       "      <th>1</th>\n",
       "      <td>1233408,1307712</td>\n",
       "      <td>0</td>\n",
       "      <td>1233408,1307712</td>\n",
       "      <td>1307712</td>\n",
       "    </tr>\n",
       "    <tr>\n",
       "      <th>2</th>\n",
       "      <td>1233592,1307896</td>\n",
       "      <td>0</td>\n",
       "      <td>1233592,1307896</td>\n",
       "      <td>1233592</td>\n",
       "    </tr>\n",
       "    <tr>\n",
       "      <th>3</th>\n",
       "      <td>1233592,1307896</td>\n",
       "      <td>0</td>\n",
       "      <td>1233592,1307896</td>\n",
       "      <td>1307896</td>\n",
       "    </tr>\n",
       "    <tr>\n",
       "      <th>4</th>\n",
       "      <td>1233600,1307904</td>\n",
       "      <td>0</td>\n",
       "      <td>1233600,1307904</td>\n",
       "      <td>1233600</td>\n",
       "    </tr>\n",
       "  </tbody>\n",
       "</table>\n",
       "</div>"
      ],
      "text/plain": [
       "               uid  type        uid_liste     uids\n",
       "0  1233408,1307712     0  1233408,1307712  1233408\n",
       "1  1233408,1307712     0  1233408,1307712  1307712\n",
       "2  1233592,1307896     0  1233592,1307896  1233592\n",
       "3  1233592,1307896     0  1233592,1307896  1307896\n",
       "4  1233600,1307904     0  1233600,1307904  1233600"
      ]
     },
     "execution_count": 83,
     "metadata": {},
     "output_type": "execute_result"
    }
   ],
   "source": [
    "submission.head()"
   ]
  },
  {
   "cell_type": "code",
   "execution_count": 84,
   "metadata": {},
   "outputs": [],
   "source": [
    "del submission['uid']\n",
    "del submission['uid_liste']\n",
    "submission['uid']=submission['uids']\n",
    "del submission['uids']"
   ]
  },
  {
   "cell_type": "code",
   "execution_count": 85,
   "metadata": {},
   "outputs": [
    {
     "data": {
      "text/html": [
       "<div>\n",
       "<style scoped>\n",
       "    .dataframe tbody tr th:only-of-type {\n",
       "        vertical-align: middle;\n",
       "    }\n",
       "\n",
       "    .dataframe tbody tr th {\n",
       "        vertical-align: top;\n",
       "    }\n",
       "\n",
       "    .dataframe thead th {\n",
       "        text-align: right;\n",
       "    }\n",
       "</style>\n",
       "<table border=\"1\" class=\"dataframe\">\n",
       "  <thead>\n",
       "    <tr style=\"text-align: right;\">\n",
       "      <th></th>\n",
       "      <th>type</th>\n",
       "      <th>uid</th>\n",
       "    </tr>\n",
       "  </thead>\n",
       "  <tbody>\n",
       "    <tr>\n",
       "      <th>0</th>\n",
       "      <td>0</td>\n",
       "      <td>1233408</td>\n",
       "    </tr>\n",
       "    <tr>\n",
       "      <th>1</th>\n",
       "      <td>0</td>\n",
       "      <td>1307712</td>\n",
       "    </tr>\n",
       "    <tr>\n",
       "      <th>2</th>\n",
       "      <td>0</td>\n",
       "      <td>1233592</td>\n",
       "    </tr>\n",
       "    <tr>\n",
       "      <th>3</th>\n",
       "      <td>0</td>\n",
       "      <td>1307896</td>\n",
       "    </tr>\n",
       "    <tr>\n",
       "      <th>4</th>\n",
       "      <td>0</td>\n",
       "      <td>1233600</td>\n",
       "    </tr>\n",
       "  </tbody>\n",
       "</table>\n",
       "</div>"
      ],
      "text/plain": [
       "   type      uid\n",
       "0     0  1233408\n",
       "1     0  1307712\n",
       "2     0  1233592\n",
       "3     0  1307896\n",
       "4     0  1233600"
      ]
     },
     "execution_count": 85,
     "metadata": {},
     "output_type": "execute_result"
    }
   ],
   "source": [
    "submission.head()"
   ]
  },
  {
   "cell_type": "code",
   "execution_count": 86,
   "metadata": {},
   "outputs": [],
   "source": [
    "uc7_sub = pd.read_csv(\"uc7_sub.csv\",sep=';')\n",
    "del uc7_sub['type']"
   ]
  },
  {
   "cell_type": "code",
   "execution_count": 87,
   "metadata": {},
   "outputs": [
    {
     "data": {
      "text/plain": [
       "(453041, 2)"
      ]
     },
     "execution_count": 87,
     "metadata": {},
     "output_type": "execute_result"
    }
   ],
   "source": [
    "submission = submission.merge(uc7_sub, on='uid', how='inner')\n",
    "submission.shape"
   ]
  },
  {
   "cell_type": "code",
   "execution_count": 88,
   "metadata": {},
   "outputs": [
    {
     "data": {
      "text/html": [
       "<div>\n",
       "<style scoped>\n",
       "    .dataframe tbody tr th:only-of-type {\n",
       "        vertical-align: middle;\n",
       "    }\n",
       "\n",
       "    .dataframe tbody tr th {\n",
       "        vertical-align: top;\n",
       "    }\n",
       "\n",
       "    .dataframe thead th {\n",
       "        text-align: right;\n",
       "    }\n",
       "</style>\n",
       "<table border=\"1\" class=\"dataframe\">\n",
       "  <thead>\n",
       "    <tr style=\"text-align: right;\">\n",
       "      <th></th>\n",
       "      <th>type</th>\n",
       "      <th>uid</th>\n",
       "    </tr>\n",
       "  </thead>\n",
       "  <tbody>\n",
       "    <tr>\n",
       "      <th>0</th>\n",
       "      <td>0</td>\n",
       "      <td>5923595</td>\n",
       "    </tr>\n",
       "    <tr>\n",
       "      <th>1</th>\n",
       "      <td>0</td>\n",
       "      <td>1435045</td>\n",
       "    </tr>\n",
       "    <tr>\n",
       "      <th>2</th>\n",
       "      <td>1</td>\n",
       "      <td>4020425</td>\n",
       "    </tr>\n",
       "    <tr>\n",
       "      <th>3</th>\n",
       "      <td>2</td>\n",
       "      <td>4202295</td>\n",
       "    </tr>\n",
       "    <tr>\n",
       "      <th>4</th>\n",
       "      <td>2</td>\n",
       "      <td>4202125</td>\n",
       "    </tr>\n",
       "  </tbody>\n",
       "</table>\n",
       "</div>"
      ],
      "text/plain": [
       "   type      uid\n",
       "0     0  5923595\n",
       "1     0  1435045\n",
       "2     1  4020425\n",
       "3     2  4202295\n",
       "4     2  4202125"
      ]
     },
     "execution_count": 88,
     "metadata": {},
     "output_type": "execute_result"
    }
   ],
   "source": [
    "submission.head()"
   ]
  },
  {
   "cell_type": "code",
   "execution_count": 89,
   "metadata": {},
   "outputs": [],
   "source": [
    " submission.to_csv(\"submission_uc7.csv\",index=False)"
   ]
  },
  {
   "cell_type": "markdown",
   "metadata": {},
   "source": [
    "## ACC test:  91.444"
   ]
  }
 ],
 "metadata": {
  "kernelspec": {
   "display_name": "Python 3",
   "language": "python",
   "name": "python3"
  },
  "language_info": {
   "codemirror_mode": {
    "name": "ipython",
    "version": 3
   },
   "file_extension": ".py",
   "mimetype": "text/x-python",
   "name": "python",
   "nbconvert_exporter": "python",
   "pygments_lexer": "ipython3",
   "version": "3.7.3"
  }
 },
 "nbformat": 4,
 "nbformat_minor": 2
}
