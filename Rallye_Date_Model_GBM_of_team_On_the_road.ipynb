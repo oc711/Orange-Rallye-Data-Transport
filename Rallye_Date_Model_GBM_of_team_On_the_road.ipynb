{
 "cells": [
  {
   "cell_type": "code",
   "execution_count": 1,
   "metadata": {},
   "outputs": [
    {
     "data": {
      "text/html": [
       "<style>.container {width:98% !important;}</style>"
      ],
      "text/plain": [
       "<IPython.core.display.HTML object>"
      ]
     },
     "metadata": {},
     "output_type": "display_data"
    }
   ],
   "source": [
    "from IPython.core.display import display, HTML\n",
    "display(HTML('<style>.container {width:98% !important;}</style>'))"
   ]
  },
  {
   "cell_type": "code",
   "execution_count": 3,
   "metadata": {
    "collapsed": true
   },
   "outputs": [],
   "source": [
    "### Necessary libraries\n",
    "import pandas as pd\n",
    "import numpy as np\n",
    "import matplotlib.pyplot as plt\n",
    "import seaborn as sns\n",
    "from sklearn.model_selection import StratifiedKFold\n",
    "### Seaborn style\n",
    "sns.set_style(\"whitegrid\")\n",
    "import jaydebeapi\n",
    "import os\n",
    "from lightgbm import LGBMClassifier"
   ]
  },
  {
   "cell_type": "code",
   "execution_count": 4,
   "metadata": {},
   "outputs": [
    {
     "data": {
      "text/plain": [
       "(10039826, 31)"
      ]
     },
     "execution_count": 4,
     "metadata": {},
     "output_type": "execute_result"
    }
   ],
   "source": [
    "train = pd.read_csv(\"train_v3.csv.gz\", compression='gzip')\n",
    "train.shape"
   ]
  },
  {
   "cell_type": "code",
   "execution_count": 5,
   "metadata": {},
   "outputs": [
    {
     "data": {
      "text/html": [
       "<div>\n",
       "<style scoped>\n",
       "    .dataframe tbody tr th:only-of-type {\n",
       "        vertical-align: middle;\n",
       "    }\n",
       "\n",
       "    .dataframe tbody tr th {\n",
       "        vertical-align: top;\n",
       "    }\n",
       "\n",
       "    .dataframe thead th {\n",
       "        text-align: right;\n",
       "    }\n",
       "</style>\n",
       "<table border=\"1\" class=\"dataframe\">\n",
       "  <thead>\n",
       "    <tr style=\"text-align: right;\">\n",
       "      <th></th>\n",
       "      <th>liste_type</th>\n",
       "      <th>duree</th>\n",
       "      <th>distance_autoroute</th>\n",
       "      <th>distance_train</th>\n",
       "      <th>lag1_distance_autoroute</th>\n",
       "      <th>lag1_distance_train</th>\n",
       "      <th>lag1_duree</th>\n",
       "      <th>lead1_distance_autoroute</th>\n",
       "      <th>lead1_distance_train</th>\n",
       "      <th>lead1_duree</th>\n",
       "      <th>...</th>\n",
       "      <th>max_distance_train_by_hour</th>\n",
       "      <th>max_distance_autoroute_by_hour</th>\n",
       "      <th>uniq_cell_by_demiheure</th>\n",
       "      <th>distance_parcourue_by_demiheure</th>\n",
       "      <th>max_distance_train_by_demiheure</th>\n",
       "      <th>max_distance_autoroute_by_demiheure</th>\n",
       "      <th>uniq_cell_by_quartheure</th>\n",
       "      <th>distance_parcourue_by_quartheure</th>\n",
       "      <th>max_distance_train_by_quartheure</th>\n",
       "      <th>max_distance_autoroute_by_quartheure</th>\n",
       "    </tr>\n",
       "  </thead>\n",
       "  <tbody>\n",
       "    <tr>\n",
       "      <th>0</th>\n",
       "      <td>Autoroute</td>\n",
       "      <td>0</td>\n",
       "      <td>0.000303</td>\n",
       "      <td>0.04247</td>\n",
       "      <td>NaN</td>\n",
       "      <td>NaN</td>\n",
       "      <td>0.0</td>\n",
       "      <td>0.003684</td>\n",
       "      <td>0.036710</td>\n",
       "      <td>0.0</td>\n",
       "      <td>...</td>\n",
       "      <td>0.053887</td>\n",
       "      <td>0.036826</td>\n",
       "      <td>7</td>\n",
       "      <td>0.000000</td>\n",
       "      <td>0.053887</td>\n",
       "      <td>0.001688</td>\n",
       "      <td>8</td>\n",
       "      <td>0.085153</td>\n",
       "      <td>0.053887</td>\n",
       "      <td>0.003684</td>\n",
       "    </tr>\n",
       "    <tr>\n",
       "      <th>1</th>\n",
       "      <td>Autres</td>\n",
       "      <td>0</td>\n",
       "      <td>0.008218</td>\n",
       "      <td>0.00775</td>\n",
       "      <td>0.008218</td>\n",
       "      <td>0.00775</td>\n",
       "      <td>0.0</td>\n",
       "      <td>0.010047</td>\n",
       "      <td>0.012332</td>\n",
       "      <td>0.0</td>\n",
       "      <td>...</td>\n",
       "      <td>0.022145</td>\n",
       "      <td>0.022804</td>\n",
       "      <td>4</td>\n",
       "      <td>0.042008</td>\n",
       "      <td>0.022145</td>\n",
       "      <td>0.022804</td>\n",
       "      <td>3</td>\n",
       "      <td>0.010844</td>\n",
       "      <td>0.012332</td>\n",
       "      <td>0.010047</td>\n",
       "    </tr>\n",
       "    <tr>\n",
       "      <th>2</th>\n",
       "      <td>Autres</td>\n",
       "      <td>0</td>\n",
       "      <td>0.008218</td>\n",
       "      <td>0.00775</td>\n",
       "      <td>0.008218</td>\n",
       "      <td>0.00775</td>\n",
       "      <td>0.0</td>\n",
       "      <td>0.010047</td>\n",
       "      <td>0.012332</td>\n",
       "      <td>0.0</td>\n",
       "      <td>...</td>\n",
       "      <td>0.022145</td>\n",
       "      <td>0.022804</td>\n",
       "      <td>3</td>\n",
       "      <td>0.010844</td>\n",
       "      <td>0.012332</td>\n",
       "      <td>0.010047</td>\n",
       "      <td>3</td>\n",
       "      <td>0.010844</td>\n",
       "      <td>0.012332</td>\n",
       "      <td>0.010047</td>\n",
       "    </tr>\n",
       "    <tr>\n",
       "      <th>3</th>\n",
       "      <td>Autres</td>\n",
       "      <td>0</td>\n",
       "      <td>0.008218</td>\n",
       "      <td>0.00775</td>\n",
       "      <td>0.008218</td>\n",
       "      <td>0.00775</td>\n",
       "      <td>0.0</td>\n",
       "      <td>0.010047</td>\n",
       "      <td>0.012332</td>\n",
       "      <td>1.0</td>\n",
       "      <td>...</td>\n",
       "      <td>0.022145</td>\n",
       "      <td>0.022804</td>\n",
       "      <td>4</td>\n",
       "      <td>0.042008</td>\n",
       "      <td>0.022145</td>\n",
       "      <td>0.022804</td>\n",
       "      <td>3</td>\n",
       "      <td>0.010844</td>\n",
       "      <td>0.012332</td>\n",
       "      <td>0.010047</td>\n",
       "    </tr>\n",
       "    <tr>\n",
       "      <th>4</th>\n",
       "      <td>Autres</td>\n",
       "      <td>0</td>\n",
       "      <td>0.008218</td>\n",
       "      <td>0.00775</td>\n",
       "      <td>0.008218</td>\n",
       "      <td>0.00775</td>\n",
       "      <td>719.0</td>\n",
       "      <td>0.010047</td>\n",
       "      <td>0.012332</td>\n",
       "      <td>0.0</td>\n",
       "      <td>...</td>\n",
       "      <td>0.012332</td>\n",
       "      <td>0.010047</td>\n",
       "      <td>3</td>\n",
       "      <td>0.016266</td>\n",
       "      <td>0.012332</td>\n",
       "      <td>0.010047</td>\n",
       "      <td>2</td>\n",
       "      <td>0.005422</td>\n",
       "      <td>0.012332</td>\n",
       "      <td>0.010047</td>\n",
       "    </tr>\n",
       "  </tbody>\n",
       "</table>\n",
       "<p>5 rows × 31 columns</p>\n",
       "</div>"
      ],
      "text/plain": [
       "  liste_type  duree  distance_autoroute  distance_train  \\\n",
       "0  Autoroute      0            0.000303         0.04247   \n",
       "1     Autres      0            0.008218         0.00775   \n",
       "2     Autres      0            0.008218         0.00775   \n",
       "3     Autres      0            0.008218         0.00775   \n",
       "4     Autres      0            0.008218         0.00775   \n",
       "\n",
       "   lag1_distance_autoroute  lag1_distance_train  lag1_duree  \\\n",
       "0                      NaN                  NaN         0.0   \n",
       "1                 0.008218              0.00775         0.0   \n",
       "2                 0.008218              0.00775         0.0   \n",
       "3                 0.008218              0.00775         0.0   \n",
       "4                 0.008218              0.00775       719.0   \n",
       "\n",
       "   lead1_distance_autoroute  lead1_distance_train  lead1_duree  \\\n",
       "0                  0.003684              0.036710          0.0   \n",
       "1                  0.010047              0.012332          0.0   \n",
       "2                  0.010047              0.012332          0.0   \n",
       "3                  0.010047              0.012332          1.0   \n",
       "4                  0.010047              0.012332          0.0   \n",
       "\n",
       "                   ...                   max_distance_train_by_hour  \\\n",
       "0                  ...                                     0.053887   \n",
       "1                  ...                                     0.022145   \n",
       "2                  ...                                     0.022145   \n",
       "3                  ...                                     0.022145   \n",
       "4                  ...                                     0.012332   \n",
       "\n",
       "   max_distance_autoroute_by_hour  uniq_cell_by_demiheure  \\\n",
       "0                        0.036826                       7   \n",
       "1                        0.022804                       4   \n",
       "2                        0.022804                       3   \n",
       "3                        0.022804                       4   \n",
       "4                        0.010047                       3   \n",
       "\n",
       "   distance_parcourue_by_demiheure  max_distance_train_by_demiheure  \\\n",
       "0                         0.000000                         0.053887   \n",
       "1                         0.042008                         0.022145   \n",
       "2                         0.010844                         0.012332   \n",
       "3                         0.042008                         0.022145   \n",
       "4                         0.016266                         0.012332   \n",
       "\n",
       "   max_distance_autoroute_by_demiheure  uniq_cell_by_quartheure  \\\n",
       "0                             0.001688                        8   \n",
       "1                             0.022804                        3   \n",
       "2                             0.010047                        3   \n",
       "3                             0.022804                        3   \n",
       "4                             0.010047                        2   \n",
       "\n",
       "   distance_parcourue_by_quartheure max_distance_train_by_quartheure  \\\n",
       "0                          0.085153                         0.053887   \n",
       "1                          0.010844                         0.012332   \n",
       "2                          0.010844                         0.012332   \n",
       "3                          0.010844                         0.012332   \n",
       "4                          0.005422                         0.012332   \n",
       "\n",
       "   max_distance_autoroute_by_quartheure  \n",
       "0                              0.003684  \n",
       "1                              0.010047  \n",
       "2                              0.010047  \n",
       "3                              0.010047  \n",
       "4                              0.010047  \n",
       "\n",
       "[5 rows x 31 columns]"
      ]
     },
     "execution_count": 5,
     "metadata": {},
     "output_type": "execute_result"
    }
   ],
   "source": [
    "train.head()"
   ]
  },
  {
   "cell_type": "code",
   "execution_count": 6,
   "metadata": {},
   "outputs": [
    {
     "data": {
      "text/plain": [
       "(2550463, 31)"
      ]
     },
     "execution_count": 6,
     "metadata": {},
     "output_type": "execute_result"
    }
   ],
   "source": [
    "test = pd.read_csv(\"test_v3.csv.gz\", compression='gzip')\n",
    "test.shape"
   ]
  },
  {
   "cell_type": "code",
   "execution_count": 7,
   "metadata": {},
   "outputs": [
    {
     "data": {
      "text/html": [
       "<div>\n",
       "<style scoped>\n",
       "    .dataframe tbody tr th:only-of-type {\n",
       "        vertical-align: middle;\n",
       "    }\n",
       "\n",
       "    .dataframe tbody tr th {\n",
       "        vertical-align: top;\n",
       "    }\n",
       "\n",
       "    .dataframe thead th {\n",
       "        text-align: right;\n",
       "    }\n",
       "</style>\n",
       "<table border=\"1\" class=\"dataframe\">\n",
       "  <thead>\n",
       "    <tr style=\"text-align: right;\">\n",
       "      <th></th>\n",
       "      <th>uid</th>\n",
       "      <th>duree</th>\n",
       "      <th>distance_autoroute</th>\n",
       "      <th>distance_train</th>\n",
       "      <th>lag1_distance_autoroute</th>\n",
       "      <th>lag1_distance_train</th>\n",
       "      <th>lag1_duree</th>\n",
       "      <th>lead1_distance_autoroute</th>\n",
       "      <th>lead1_distance_train</th>\n",
       "      <th>lead1_duree</th>\n",
       "      <th>...</th>\n",
       "      <th>max_distance_train_by_hour</th>\n",
       "      <th>max_distance_autoroute_by_hour</th>\n",
       "      <th>uniq_cell_by_demiheure</th>\n",
       "      <th>distance_parcourue_by_demiheure</th>\n",
       "      <th>max_distance_train_by_demiheure</th>\n",
       "      <th>max_distance_autoroute_by_demiheure</th>\n",
       "      <th>uniq_cell_by_quartheure</th>\n",
       "      <th>distance_parcourue_by_quartheure</th>\n",
       "      <th>max_distance_train_by_quartheure</th>\n",
       "      <th>max_distance_autoroute_by_quartheure</th>\n",
       "    </tr>\n",
       "  </thead>\n",
       "  <tbody>\n",
       "    <tr>\n",
       "      <th>0</th>\n",
       "      <td>2144065,506353</td>\n",
       "      <td>0</td>\n",
       "      <td>NaN</td>\n",
       "      <td>NaN</td>\n",
       "      <td>NaN</td>\n",
       "      <td>NaN</td>\n",
       "      <td>0.0</td>\n",
       "      <td>0.008455</td>\n",
       "      <td>0.012321</td>\n",
       "      <td>83.0</td>\n",
       "      <td>...</td>\n",
       "      <td>0.047985</td>\n",
       "      <td>0.031710</td>\n",
       "      <td>41</td>\n",
       "      <td>0.475162</td>\n",
       "      <td>0.047985</td>\n",
       "      <td>0.031710</td>\n",
       "      <td>35</td>\n",
       "      <td>0.324523</td>\n",
       "      <td>0.037791</td>\n",
       "      <td>0.031710</td>\n",
       "    </tr>\n",
       "    <tr>\n",
       "      <th>1</th>\n",
       "      <td>2143883</td>\n",
       "      <td>0</td>\n",
       "      <td>NaN</td>\n",
       "      <td>NaN</td>\n",
       "      <td>NaN</td>\n",
       "      <td>NaN</td>\n",
       "      <td>0.0</td>\n",
       "      <td>0.008455</td>\n",
       "      <td>0.012321</td>\n",
       "      <td>0.0</td>\n",
       "      <td>...</td>\n",
       "      <td>0.070774</td>\n",
       "      <td>0.055665</td>\n",
       "      <td>78</td>\n",
       "      <td>1.624420</td>\n",
       "      <td>0.050731</td>\n",
       "      <td>0.055665</td>\n",
       "      <td>52</td>\n",
       "      <td>0.876776</td>\n",
       "      <td>0.039443</td>\n",
       "      <td>0.055665</td>\n",
       "    </tr>\n",
       "    <tr>\n",
       "      <th>2</th>\n",
       "      <td>1435909,1497057,1496125</td>\n",
       "      <td>0</td>\n",
       "      <td>NaN</td>\n",
       "      <td>NaN</td>\n",
       "      <td>NaN</td>\n",
       "      <td>NaN</td>\n",
       "      <td>0.0</td>\n",
       "      <td>0.008455</td>\n",
       "      <td>0.012321</td>\n",
       "      <td>0.0</td>\n",
       "      <td>...</td>\n",
       "      <td>0.070774</td>\n",
       "      <td>0.055665</td>\n",
       "      <td>10</td>\n",
       "      <td>0.143427</td>\n",
       "      <td>0.025094</td>\n",
       "      <td>0.014579</td>\n",
       "      <td>25</td>\n",
       "      <td>0.879221</td>\n",
       "      <td>0.061336</td>\n",
       "      <td>0.055665</td>\n",
       "    </tr>\n",
       "    <tr>\n",
       "      <th>3</th>\n",
       "      <td>2144243,506080</td>\n",
       "      <td>0</td>\n",
       "      <td>NaN</td>\n",
       "      <td>NaN</td>\n",
       "      <td>0.008455</td>\n",
       "      <td>0.012321</td>\n",
       "      <td>0.0</td>\n",
       "      <td>0.008455</td>\n",
       "      <td>0.012321</td>\n",
       "      <td>0.0</td>\n",
       "      <td>...</td>\n",
       "      <td>0.070774</td>\n",
       "      <td>0.055665</td>\n",
       "      <td>78</td>\n",
       "      <td>1.624420</td>\n",
       "      <td>0.050731</td>\n",
       "      <td>0.055665</td>\n",
       "      <td>52</td>\n",
       "      <td>0.876776</td>\n",
       "      <td>0.039443</td>\n",
       "      <td>0.055665</td>\n",
       "    </tr>\n",
       "    <tr>\n",
       "      <th>4</th>\n",
       "      <td>3066703,3066822,3019759,3019767</td>\n",
       "      <td>7</td>\n",
       "      <td>NaN</td>\n",
       "      <td>NaN</td>\n",
       "      <td>0.008455</td>\n",
       "      <td>0.012321</td>\n",
       "      <td>26.0</td>\n",
       "      <td>0.008455</td>\n",
       "      <td>0.012321</td>\n",
       "      <td>15.0</td>\n",
       "      <td>...</td>\n",
       "      <td>0.060178</td>\n",
       "      <td>0.055665</td>\n",
       "      <td>81</td>\n",
       "      <td>1.184498</td>\n",
       "      <td>0.060178</td>\n",
       "      <td>0.055665</td>\n",
       "      <td>52</td>\n",
       "      <td>0.450552</td>\n",
       "      <td>0.026315</td>\n",
       "      <td>0.025081</td>\n",
       "    </tr>\n",
       "  </tbody>\n",
       "</table>\n",
       "<p>5 rows × 31 columns</p>\n",
       "</div>"
      ],
      "text/plain": [
       "                               uid  duree  distance_autoroute  distance_train  \\\n",
       "0                   2144065,506353      0                 NaN             NaN   \n",
       "1                          2143883      0                 NaN             NaN   \n",
       "2          1435909,1497057,1496125      0                 NaN             NaN   \n",
       "3                   2144243,506080      0                 NaN             NaN   \n",
       "4  3066703,3066822,3019759,3019767      7                 NaN             NaN   \n",
       "\n",
       "   lag1_distance_autoroute  lag1_distance_train  lag1_duree  \\\n",
       "0                      NaN                  NaN         0.0   \n",
       "1                      NaN                  NaN         0.0   \n",
       "2                      NaN                  NaN         0.0   \n",
       "3                 0.008455             0.012321         0.0   \n",
       "4                 0.008455             0.012321        26.0   \n",
       "\n",
       "   lead1_distance_autoroute  lead1_distance_train  lead1_duree  \\\n",
       "0                  0.008455              0.012321         83.0   \n",
       "1                  0.008455              0.012321          0.0   \n",
       "2                  0.008455              0.012321          0.0   \n",
       "3                  0.008455              0.012321          0.0   \n",
       "4                  0.008455              0.012321         15.0   \n",
       "\n",
       "                   ...                   max_distance_train_by_hour  \\\n",
       "0                  ...                                     0.047985   \n",
       "1                  ...                                     0.070774   \n",
       "2                  ...                                     0.070774   \n",
       "3                  ...                                     0.070774   \n",
       "4                  ...                                     0.060178   \n",
       "\n",
       "   max_distance_autoroute_by_hour  uniq_cell_by_demiheure  \\\n",
       "0                        0.031710                      41   \n",
       "1                        0.055665                      78   \n",
       "2                        0.055665                      10   \n",
       "3                        0.055665                      78   \n",
       "4                        0.055665                      81   \n",
       "\n",
       "   distance_parcourue_by_demiheure  max_distance_train_by_demiheure  \\\n",
       "0                         0.475162                         0.047985   \n",
       "1                         1.624420                         0.050731   \n",
       "2                         0.143427                         0.025094   \n",
       "3                         1.624420                         0.050731   \n",
       "4                         1.184498                         0.060178   \n",
       "\n",
       "   max_distance_autoroute_by_demiheure  uniq_cell_by_quartheure  \\\n",
       "0                             0.031710                       35   \n",
       "1                             0.055665                       52   \n",
       "2                             0.014579                       25   \n",
       "3                             0.055665                       52   \n",
       "4                             0.055665                       52   \n",
       "\n",
       "   distance_parcourue_by_quartheure max_distance_train_by_quartheure  \\\n",
       "0                          0.324523                         0.037791   \n",
       "1                          0.876776                         0.039443   \n",
       "2                          0.879221                         0.061336   \n",
       "3                          0.876776                         0.039443   \n",
       "4                          0.450552                         0.026315   \n",
       "\n",
       "   max_distance_autoroute_by_quartheure  \n",
       "0                              0.031710  \n",
       "1                              0.055665  \n",
       "2                              0.055665  \n",
       "3                              0.055665  \n",
       "4                              0.025081  \n",
       "\n",
       "[5 rows x 31 columns]"
      ]
     },
     "execution_count": 7,
     "metadata": {},
     "output_type": "execute_result"
    }
   ],
   "source": [
    "test.head(5)"
   ]
  },
  {
   "cell_type": "code",
   "execution_count": 8,
   "metadata": {
    "collapsed": true
   },
   "outputs": [],
   "source": [
    "train['liste_type']=train['liste_type'].replace(['Autoroute','Train','Autres','Train,Autoroute', 'Autoroute,Train'],[0,1,2,1,0])"
   ]
  },
  {
   "cell_type": "code",
   "execution_count": 9,
   "metadata": {
    "collapsed": true
   },
   "outputs": [],
   "source": [
    "y2 = train['liste_type']"
   ]
  },
  {
   "cell_type": "code",
   "execution_count": 10,
   "metadata": {},
   "outputs": [
    {
     "data": {
      "text/plain": [
       "array([0, 2, 1], dtype=int64)"
      ]
     },
     "execution_count": 10,
     "metadata": {},
     "output_type": "execute_result"
    }
   ],
   "source": [
    "train['liste_type'].unique()"
   ]
  },
  {
   "cell_type": "markdown",
   "metadata": {},
   "source": [
    "# ajouts de quelques features"
   ]
  },
  {
   "cell_type": "code",
   "execution_count": 11,
   "metadata": {
    "collapsed": true
   },
   "outputs": [],
   "source": [
    "train[\"autoroute\"] = np.where(train[\"distance_autoroute\"] <train[\"distance_train\"] ,1,0)\n",
    "test[\"autoroute\"]  = np.where(test[\"distance_autoroute\"] <test[\"distance_train\"] ,1,0)\n",
    "\n",
    "train[\"vitesse1\"] =train[\"distance_cell_celllag1b\"] / train[\"delta_lag1_date_session\"]\n",
    "train[\"vitesse2\"] =train[\"distance_cell_celllag1b\"] / train[\"delta_lead1_date_session\"]\n",
    "train[\"vitesse3\"] =train[\"distance_cell_celllead1b\"] / train[\"delta_lag1_date_session\"]\n",
    "train[\"vitesse4\"] =train[\"distance_cell_celllead1b\"] / train[\"delta_lead1_date_session\"]\n",
    "\n",
    "test[\"vitesse1\"] =test[\"distance_cell_celllag1b\"] / test[\"delta_lag1_date_session\"]\n",
    "test[\"vitesse2\"] =test[\"distance_cell_celllag1b\"] / test[\"delta_lead1_date_session\"]\n",
    "test[\"vitesse3\"] =test[\"distance_cell_celllead1b\"] / test[\"delta_lag1_date_session\"]\n",
    "test[\"vitesse4\"] =test[\"distance_cell_celllead1b\"] / test[\"delta_lead1_date_session\"]\n",
    "\n"
   ]
  },
  {
   "cell_type": "code",
   "execution_count": 17,
   "metadata": {
    "collapsed": true
   },
   "outputs": [],
   "source": [
    "features_cat=['dayofweek']"
   ]
  },
  {
   "cell_type": "code",
   "execution_count": 18,
   "metadata": {
    "collapsed": true
   },
   "outputs": [],
   "source": [
    "from sklearn.preprocessing import LabelEncoder\n",
    "for v in features_cat: \n",
    "    train[v].fillna('#NA#', inplace=True)\n",
    "    test[v].fillna('#NA#', inplace=True)\n",
    "    le = LabelEncoder()\n",
    "    train[v] = le.fit_transform(train[v])\n",
    "    test[v] = le.fit_transform(test[v])"
   ]
  },
  {
   "cell_type": "code",
   "execution_count": 19,
   "metadata": {
    "collapsed": true
   },
   "outputs": [],
   "source": [
    "features = [x for x in train.columns if x not in ['liste_type','cell','region','departement','latitude_2', 'longitude_2']]"
   ]
  },
  {
   "cell_type": "code",
   "execution_count": 20,
   "metadata": {},
   "outputs": [
    {
     "name": "stdout",
     "output_type": "stream",
     "text": [
      "['duree', 'distance_autoroute', 'distance_train', 'lag1_distance_autoroute', 'lag1_distance_train', 'lag1_duree', 'lead1_distance_autoroute', 'lead1_distance_train', 'lead1_duree', 'delta_lag1_distance_autoroute', 'delta_lag1_distance_train', 'delta_lag1_date_session', 'delta_lead1_distance_autoroute', 'delta_lead1_distance_train', 'delta_lead1_date_session', 'distance_cell_celllag1b', 'distance_cell_celllead1b', 'dayofweek', 'uniq_cell_by_hour', 'distance_parcourue_by_hour', 'max_distance_train_by_hour', 'max_distance_autoroute_by_hour', 'uniq_cell_by_demiheure', 'distance_parcourue_by_demiheure', 'max_distance_train_by_demiheure', 'max_distance_autoroute_by_demiheure', 'uniq_cell_by_quartheure', 'distance_parcourue_by_quartheure', 'max_distance_train_by_quartheure', 'max_distance_autoroute_by_quartheure', 'autoroute', 'vitesse1', 'vitesse2', 'vitesse3', 'vitesse4']\n"
     ]
    }
   ],
   "source": [
    "print(features)"
   ]
  },
  {
   "cell_type": "code",
   "execution_count": 21,
   "metadata": {
    "collapsed": true
   },
   "outputs": [],
   "source": [
    "nr_fold=5\n",
    "random_state=1234\n",
    "folds = StratifiedKFold(n_splits=nr_fold, \n",
    "                            shuffle=True, \n",
    "                            random_state=random_state)"
   ]
  },
  {
   "cell_type": "code",
   "execution_count": 22,
   "metadata": {
    "collapsed": true
   },
   "outputs": [],
   "source": [
    "params2 = {\n",
    "            'objective': 'multiclass', \n",
    "            'num_class': 3, \n",
    "            'learning_rate' : 0.1,\n",
    "            'boosting_type': 'gbdt', \n",
    "            'n_jobs': -1, \n",
    "            'max_depth': 7, \n",
    "              'n_estimators': 100, \n",
    "             'num_boost_round':10000,\n",
    "            'metric': 'multi_logloss'}"
   ]
  },
  {
   "cell_type": "code",
   "execution_count": 23,
   "metadata": {
    "scrolled": false
   },
   "outputs": [
    {
     "name": "stderr",
     "output_type": "stream",
     "text": [
      "C:\\ProgramData\\Anaconda3\\lib\\site-packages\\lightgbm\\engine.py:99: UserWarning: Found `num_boost_round` in params. Will use it instead of argument\n",
      "  warnings.warn(\"Found `{}` in params. Will use it instead of argument\".format(alias))\n",
      "C:\\ProgramData\\Anaconda3\\lib\\site-packages\\lightgbm\\basic.py:1038: UserWarning: categorical_feature in Dataset is overridden. New categorical_feature is ['dayofweek']\n",
      "  warnings.warn('categorical_feature in Dataset is overridden. New categorical_feature is {}'.format(sorted(list(categorical_feature))))\n"
     ]
    },
    {
     "name": "stdout",
     "output_type": "stream",
     "text": [
      "Training until validation scores don't improve for 50 rounds.\n",
      "[100]\ttraining's multi_logloss: 0.0558294\tvalid_1's multi_logloss: 0.0561477\n",
      "[200]\ttraining's multi_logloss: 0.0390536\tvalid_1's multi_logloss: 0.039499\n",
      "[300]\ttraining's multi_logloss: 0.0310155\tvalid_1's multi_logloss: 0.0316165\n",
      "[400]\ttraining's multi_logloss: 0.0253673\tvalid_1's multi_logloss: 0.0260136\n",
      "[500]\ttraining's multi_logloss: 0.0216054\tvalid_1's multi_logloss: 0.0223283\n",
      "[600]\ttraining's multi_logloss: 0.0187144\tvalid_1's multi_logloss: 0.019581\n",
      "[700]\ttraining's multi_logloss: 0.0161662\tvalid_1's multi_logloss: 0.01709\n",
      "[800]\ttraining's multi_logloss: 0.0140695\tvalid_1's multi_logloss: 0.0151003\n",
      "[900]\ttraining's multi_logloss: 0.0123152\tvalid_1's multi_logloss: 0.0133994\n",
      "[1000]\ttraining's multi_logloss: 0.0108801\tvalid_1's multi_logloss: 0.0120437\n",
      "[1100]\ttraining's multi_logloss: 0.00964578\tvalid_1's multi_logloss: 0.0108511\n",
      "[1200]\ttraining's multi_logloss: 0.00869778\tvalid_1's multi_logloss: 0.009949\n",
      "[1300]\ttraining's multi_logloss: 0.00775502\tvalid_1's multi_logloss: 0.00901339\n",
      "[1400]\ttraining's multi_logloss: 0.0069936\tvalid_1's multi_logloss: 0.0083571\n",
      "[1500]\ttraining's multi_logloss: 0.00628884\tvalid_1's multi_logloss: 0.0077785\n",
      "Early stopping, best iteration is:\n",
      "[1549]\ttraining's multi_logloss: 0.00599806\tvalid_1's multi_logloss: 0.0074267\n",
      "Training until validation scores don't improve for 50 rounds.\n",
      "[100]\ttraining's multi_logloss: 0.0558191\tvalid_1's multi_logloss: 0.0562154\n",
      "[200]\ttraining's multi_logloss: 0.0392919\tvalid_1's multi_logloss: 0.0398358\n",
      "[300]\ttraining's multi_logloss: 0.030957\tvalid_1's multi_logloss: 0.0315947\n",
      "[400]\ttraining's multi_logloss: 0.0257538\tvalid_1's multi_logloss: 0.0265102\n",
      "[500]\ttraining's multi_logloss: 0.0217985\tvalid_1's multi_logloss: 0.0225941\n",
      "[600]\ttraining's multi_logloss: 0.0187504\tvalid_1's multi_logloss: 0.0196123\n",
      "[700]\ttraining's multi_logloss: 0.0162057\tvalid_1's multi_logloss: 0.017113\n",
      "[800]\ttraining's multi_logloss: 0.0140894\tvalid_1's multi_logloss: 0.015039\n",
      "[900]\ttraining's multi_logloss: 0.0123802\tvalid_1's multi_logloss: 0.0133936\n",
      "[1000]\ttraining's multi_logloss: 0.0110008\tvalid_1's multi_logloss: 0.012077\n",
      "[1100]\ttraining's multi_logloss: 0.00979658\tvalid_1's multi_logloss: 0.0109562\n",
      "[1200]\ttraining's multi_logloss: 0.00870388\tvalid_1's multi_logloss: 0.00990433\n",
      "[1300]\ttraining's multi_logloss: 0.00773912\tvalid_1's multi_logloss: 0.0089609\n",
      "[1400]\ttraining's multi_logloss: 0.00693241\tvalid_1's multi_logloss: 0.00816132\n",
      "[1500]\ttraining's multi_logloss: 0.00621618\tvalid_1's multi_logloss: 0.00745109\n",
      "[1600]\ttraining's multi_logloss: 0.00561849\tvalid_1's multi_logloss: 0.00686586\n",
      "[1700]\ttraining's multi_logloss: 0.00507\tvalid_1's multi_logloss: 0.00631936\n",
      "[1800]\ttraining's multi_logloss: 0.00459495\tvalid_1's multi_logloss: 0.00587951\n",
      "[1900]\ttraining's multi_logloss: 0.00416634\tvalid_1's multi_logloss: 0.00545805\n",
      "[2000]\ttraining's multi_logloss: 0.00378427\tvalid_1's multi_logloss: 0.00507679\n",
      "[2100]\ttraining's multi_logloss: 0.00342878\tvalid_1's multi_logloss: 0.00471607\n",
      "[2200]\ttraining's multi_logloss: 0.00311489\tvalid_1's multi_logloss: 0.00439534\n",
      "[2300]\ttraining's multi_logloss: 0.0028384\tvalid_1's multi_logloss: 0.00411954\n",
      "[2400]\ttraining's multi_logloss: 0.0025885\tvalid_1's multi_logloss: 0.00386715\n",
      "[2500]\ttraining's multi_logloss: 0.00234907\tvalid_1's multi_logloss: 0.00361595\n",
      "Early stopping, best iteration is:\n",
      "[2506]\ttraining's multi_logloss: 0.00233313\tvalid_1's multi_logloss: 0.00359871\n",
      "Training until validation scores don't improve for 50 rounds.\n",
      "[100]\ttraining's multi_logloss: 0.0558335\tvalid_1's multi_logloss: 0.0559815\n",
      "[200]\ttraining's multi_logloss: 0.0394963\tvalid_1's multi_logloss: 0.0398113\n",
      "[300]\ttraining's multi_logloss: 0.0311515\tvalid_1's multi_logloss: 0.031597\n",
      "[400]\ttraining's multi_logloss: 0.0258787\tvalid_1's multi_logloss: 0.0264047\n",
      "[500]\ttraining's multi_logloss: 0.0216689\tvalid_1's multi_logloss: 0.0222875\n",
      "[600]\ttraining's multi_logloss: 0.0186241\tvalid_1's multi_logloss: 0.0193676\n",
      "[700]\ttraining's multi_logloss: 0.0161276\tvalid_1's multi_logloss: 0.0169907\n",
      "[800]\ttraining's multi_logloss: 0.0141078\tvalid_1's multi_logloss: 0.014972\n",
      "[900]\ttraining's multi_logloss: 0.0124752\tvalid_1's multi_logloss: 0.0134044\n",
      "[1000]\ttraining's multi_logloss: 0.0110389\tvalid_1's multi_logloss: 0.0120046\n",
      "[1100]\ttraining's multi_logloss: 0.0098428\tvalid_1's multi_logloss: 0.010851\n",
      "[1200]\ttraining's multi_logloss: 0.00883094\tvalid_1's multi_logloss: 0.00989662\n",
      "[1300]\ttraining's multi_logloss: 0.00797254\tvalid_1's multi_logloss: 0.00912396\n",
      "[1400]\ttraining's multi_logloss: 0.00713213\tvalid_1's multi_logloss: 0.00831766\n",
      "[1500]\ttraining's multi_logloss: 0.00639643\tvalid_1's multi_logloss: 0.00761096\n",
      "Early stopping, best iteration is:\n",
      "[1534]\ttraining's multi_logloss: 0.00617522\tvalid_1's multi_logloss: 0.00739905\n",
      "Training until validation scores don't improve for 50 rounds.\n",
      "[100]\ttraining's multi_logloss: 0.0556333\tvalid_1's multi_logloss: 0.0556328\n",
      "[200]\ttraining's multi_logloss: 0.0391073\tvalid_1's multi_logloss: 0.0393172\n",
      "[300]\ttraining's multi_logloss: 0.0308471\tvalid_1's multi_logloss: 0.0311985\n",
      "[400]\ttraining's multi_logloss: 0.0255323\tvalid_1's multi_logloss: 0.0259683\n",
      "[500]\ttraining's multi_logloss: 0.0213513\tvalid_1's multi_logloss: 0.0218992\n",
      "[600]\ttraining's multi_logloss: 0.0185324\tvalid_1's multi_logloss: 0.0191846\n",
      "[700]\ttraining's multi_logloss: 0.0161106\tvalid_1's multi_logloss: 0.0168634\n",
      "[800]\ttraining's multi_logloss: 0.0140813\tvalid_1's multi_logloss: 0.0149278\n",
      "[900]\ttraining's multi_logloss: 0.0123012\tvalid_1's multi_logloss: 0.0132331\n",
      "[1000]\ttraining's multi_logloss: 0.0109116\tvalid_1's multi_logloss: 0.0119262\n",
      "[1100]\ttraining's multi_logloss: 0.00972497\tvalid_1's multi_logloss: 0.0108198\n",
      "[1200]\ttraining's multi_logloss: 0.00869984\tvalid_1's multi_logloss: 0.00982765\n",
      "[1300]\ttraining's multi_logloss: 0.00778536\tvalid_1's multi_logloss: 0.0089517\n",
      "[1400]\ttraining's multi_logloss: 0.00696589\tvalid_1's multi_logloss: 0.00816256\n",
      "[1500]\ttraining's multi_logloss: 0.00623212\tvalid_1's multi_logloss: 0.00744196\n",
      "[1600]\ttraining's multi_logloss: 0.00562137\tvalid_1's multi_logloss: 0.00688298\n",
      "[1700]\ttraining's multi_logloss: 0.00506106\tvalid_1's multi_logloss: 0.00634469\n",
      "[1800]\ttraining's multi_logloss: 0.0162764\tvalid_1's multi_logloss: 0.0184808\n",
      "Early stopping, best iteration is:\n",
      "[1785]\ttraining's multi_logloss: 0.0046406\tvalid_1's multi_logloss: 0.00593899\n",
      "Training until validation scores don't improve for 50 rounds.\n",
      "[100]\ttraining's multi_logloss: 0.0556948\tvalid_1's multi_logloss: 0.0561944\n",
      "[200]\ttraining's multi_logloss: 0.0390966\tvalid_1's multi_logloss: 0.0397673\n",
      "[300]\ttraining's multi_logloss: 0.0307782\tvalid_1's multi_logloss: 0.0315069\n",
      "[400]\ttraining's multi_logloss: 0.0255209\tvalid_1's multi_logloss: 0.0263805\n",
      "[500]\ttraining's multi_logloss: 0.0213638\tvalid_1's multi_logloss: 0.022312\n",
      "[600]\ttraining's multi_logloss: 0.0183392\tvalid_1's multi_logloss: 0.0193594\n",
      "[700]\ttraining's multi_logloss: 0.0160581\tvalid_1's multi_logloss: 0.0171262\n",
      "[800]\ttraining's multi_logloss: 0.0140183\tvalid_1's multi_logloss: 0.0151749\n",
      "[900]\ttraining's multi_logloss: 0.0123283\tvalid_1's multi_logloss: 0.0135233\n",
      "[1000]\ttraining's multi_logloss: 0.0108839\tvalid_1's multi_logloss: 0.0121042\n",
      "[1100]\ttraining's multi_logloss: 0.0096967\tvalid_1's multi_logloss: 0.0109557\n",
      "[1200]\ttraining's multi_logloss: 0.00898337\tvalid_1's multi_logloss: 0.0103685\n",
      "Early stopping, best iteration is:\n",
      "[1212]\ttraining's multi_logloss: 0.00883689\tvalid_1's multi_logloss: 0.0101581\n"
     ]
    }
   ],
   "source": [
    "from sklearn.metrics import accuracy_score\n",
    "# utilise pour stocker les resultats\n",
    "oof_preds2  = np.zeros((len(train), np.unique(y2).shape[0]))\n",
    "oof_preds2  = np.zeros((len(train)))\n",
    "\n",
    "test_preds2 = []\n",
    "importances2 = pd.DataFrame()\n",
    "clfs = []\n",
    "for fold_, (trn_, val_) in enumerate(folds.split(train, y2)):\n",
    "\n",
    "        ## model poour les 54 classes\n",
    "        trn_x, trn_y = train[features].iloc[trn_], y2.iloc[trn_]\n",
    "        val_x, val_y = train[features].iloc[val_], y2.iloc[val_]\n",
    "    \n",
    "        clf = LGBMClassifier(**params2)\n",
    "        clf.fit(\n",
    "            trn_x, trn_y,\n",
    "            eval_set=[(trn_x, trn_y), (val_x, val_y)],\n",
    "            categorical_feature=features_cat ,\n",
    "            verbose=100,\n",
    "            eval_metric='multi_logloss',\n",
    "            early_stopping_rounds=50\n",
    "        )\n",
    "\n",
    "        oof_preds2[val_] = clf.predict(val_x, num_iteration=clf.best_iteration_)\n",
    "        test_preds2.append(clf.predict(test[features], num_iteration=clf.best_iteration_) )  \n",
    "        imp_df = pd.DataFrame()\n",
    "        imp_df['feature'] = features\n",
    "        imp_df['gain'] = clf.feature_importances_\n",
    "        imp_df['fold'] = fold_ + 1\n",
    "        importances2 = pd.concat([importances2, imp_df], axis=0, sort=False)\n",
    "        clfs.append(clf)\n",
    "\n",
    "        #print('MODEL 2 ....: no {}-fold loss: {}'.format(fold_ + 1, accuracy_score(val_y, oof_preds2[val_, :]) ) )  \n",
    "    "
   ]
  },
  {
   "cell_type": "code",
   "execution_count": 24,
   "metadata": {
    "collapsed": true
   },
   "outputs": [],
   "source": [
    "def print_importances(importances_):\n",
    "    mean_gain = importances_[['gain', 'feature']].groupby('feature').mean()\n",
    "    importances_['mean_gain'] = importances_['feature'].map(mean_gain['gain'])\n",
    "    plt.figure(figsize=(13, 11))\n",
    "    data_imp = importances_.sort_values('mean_gain', ascending=False)\n",
    "    sns.barplot(x='gain', y='feature', data=data_imp[:100])\n",
    "    plt.tight_layout()\n",
    "    plt.savefig('importances.png')\n",
    "    plt.show()"
   ]
  },
  {
   "cell_type": "code",
   "execution_count": 25,
   "metadata": {},
   "outputs": [
    {
     "data": {
      "image/png": "[encoded data removed]",
      "text/plain": [
       "<Figure size 936x792 with 1 Axes>"
      ]
     },
     "metadata": {},
     "output_type": "display_data"
    }
   ],
   "source": [
    "print_importances(importances2)"
   ]
  },
  {
   "cell_type": "markdown",
   "metadata": {},
   "source": [
    "# validation"
   ]
  },
  {
   "cell_type": "code",
   "execution_count": 26,
   "metadata": {
    "collapsed": true
   },
   "outputs": [],
   "source": [
    "from sklearn.metrics import accuracy_score"
   ]
  },
  {
   "cell_type": "code",
   "execution_count": 27,
   "metadata": {},
   "outputs": [
    {
     "data": {
      "text/plain": [
       "array([0., 2., 2., ..., 2., 2., 2.])"
      ]
     },
     "execution_count": 27,
     "metadata": {},
     "output_type": "execute_result"
    }
   ],
   "source": [
    "oof_preds2"
   ]
  },
  {
   "cell_type": "code",
   "execution_count": 28,
   "metadata": {},
   "outputs": [
    {
     "data": {
      "text/plain": [
       "0.9985220859405333"
      ]
     },
     "execution_count": 28,
     "metadata": {},
     "output_type": "execute_result"
    }
   ],
   "source": [
    "accuracy_score(y2, oof_preds2)"
   ]
  },
  {
   "cell_type": "code",
   "execution_count": 29,
   "metadata": {
    "collapsed": true
   },
   "outputs": [],
   "source": [
    "validation_df = pd.DataFrame()\n",
    "validation_df['target'] = y2\n",
    "validation_df['preds'] = oof_preds2\n"
   ]
  },
  {
   "cell_type": "markdown",
   "metadata": {},
   "source": [
    "# submission"
   ]
  },
  {
   "cell_type": "markdown",
   "metadata": {},
   "source": [
    "# vote"
   ]
  },
  {
   "cell_type": "code",
   "execution_count": 30,
   "metadata": {
    "collapsed": true
   },
   "outputs": [],
   "source": [
    "vote_df = pd.DataFrame()\n",
    "vote_df['cv0'] = test_preds2[0] \n",
    "vote_df['cv1'] = test_preds2[1] \n",
    "vote_df['cv2'] = test_preds2[2] \n",
    "vote_df['cv3'] = test_preds2[3] \n",
    "vote_df['cv4'] = test_preds2[4] "
   ]
  },
  {
   "cell_type": "code",
   "execution_count": 31,
   "metadata": {
    "collapsed": true
   },
   "outputs": [],
   "source": [
    "mask0 = pd.concat([vote_df[column] == 0 for column in vote_df], axis=1, keys=vote_df.columns)\n",
    "result0 =vote_df[mask0].isnull().sum(axis=1)\n",
    "\n",
    "mask1 = pd.concat([vote_df[column] == 1 for column in vote_df], axis=1, keys=vote_df.columns)\n",
    "result1 =vote_df[mask1].isnull().sum(axis=1)\n",
    "\n",
    "mask2= pd.concat([vote_df[column] == 2 for column in vote_df], axis=1, keys=vote_df.columns)\n",
    "result2 =vote_df[mask2].isnull().sum(axis=1)\n",
    "\n"
   ]
  },
  {
   "cell_type": "code",
   "execution_count": 32,
   "metadata": {
    "collapsed": true
   },
   "outputs": [],
   "source": [
    "vote_df['sum0'] = result0\n",
    "vote_df['sum1'] =result1\n",
    "vote_df['sum2'] =result2\n"
   ]
  },
  {
   "cell_type": "code",
   "execution_count": 33,
   "metadata": {},
   "outputs": [
    {
     "data": {
      "text/plain": [
       "(2550463, 8)"
      ]
     },
     "execution_count": 33,
     "metadata": {},
     "output_type": "execute_result"
    }
   ],
   "source": [
    "vote_df.shape"
   ]
  },
  {
   "cell_type": "code",
   "execution_count": 34,
   "metadata": {
    "collapsed": true
   },
   "outputs": [],
   "source": [
    "vote_df['final_vote'] =0\n",
    "vote_df['final_vote'] = np.where((vote_df['sum0'] <vote_df['sum1']) & (vote_df['sum0'] <vote_df['sum2']), 0,vote_df['final_vote'] )\n",
    "vote_df['final_vote'] = np.where((vote_df['sum1'] <vote_df['sum0']) & (vote_df['sum1'] <vote_df['sum2']), 1,vote_df['final_vote'] )\n",
    "vote_df['final_vote'] = np.where((vote_df['sum2'] <vote_df['sum0']) & (vote_df['sum2'] <vote_df['sum1']), 2,vote_df['final_vote'] )\n"
   ]
  },
  {
   "cell_type": "code",
   "execution_count": 35,
   "metadata": {},
   "outputs": [
    {
     "data": {
      "text/html": [
       "<div>\n",
       "<style scoped>\n",
       "    .dataframe tbody tr th:only-of-type {\n",
       "        vertical-align: middle;\n",
       "    }\n",
       "\n",
       "    .dataframe tbody tr th {\n",
       "        vertical-align: top;\n",
       "    }\n",
       "\n",
       "    .dataframe thead th {\n",
       "        text-align: right;\n",
       "    }\n",
       "</style>\n",
       "<table border=\"1\" class=\"dataframe\">\n",
       "  <thead>\n",
       "    <tr style=\"text-align: right;\">\n",
       "      <th></th>\n",
       "      <th>cv0</th>\n",
       "      <th>cv1</th>\n",
       "      <th>cv2</th>\n",
       "      <th>cv3</th>\n",
       "      <th>cv4</th>\n",
       "      <th>sum0</th>\n",
       "      <th>sum1</th>\n",
       "      <th>sum2</th>\n",
       "      <th>final_vote</th>\n",
       "    </tr>\n",
       "  </thead>\n",
       "  <tbody>\n",
       "    <tr>\n",
       "      <th>0</th>\n",
       "      <td>0</td>\n",
       "      <td>0</td>\n",
       "      <td>0</td>\n",
       "      <td>0</td>\n",
       "      <td>0</td>\n",
       "      <td>0</td>\n",
       "      <td>5</td>\n",
       "      <td>5</td>\n",
       "      <td>0</td>\n",
       "    </tr>\n",
       "    <tr>\n",
       "      <th>1</th>\n",
       "      <td>0</td>\n",
       "      <td>0</td>\n",
       "      <td>0</td>\n",
       "      <td>0</td>\n",
       "      <td>0</td>\n",
       "      <td>0</td>\n",
       "      <td>5</td>\n",
       "      <td>5</td>\n",
       "      <td>0</td>\n",
       "    </tr>\n",
       "    <tr>\n",
       "      <th>2</th>\n",
       "      <td>0</td>\n",
       "      <td>0</td>\n",
       "      <td>0</td>\n",
       "      <td>0</td>\n",
       "      <td>0</td>\n",
       "      <td>0</td>\n",
       "      <td>5</td>\n",
       "      <td>5</td>\n",
       "      <td>0</td>\n",
       "    </tr>\n",
       "    <tr>\n",
       "      <th>3</th>\n",
       "      <td>0</td>\n",
       "      <td>0</td>\n",
       "      <td>0</td>\n",
       "      <td>0</td>\n",
       "      <td>0</td>\n",
       "      <td>0</td>\n",
       "      <td>5</td>\n",
       "      <td>5</td>\n",
       "      <td>0</td>\n",
       "    </tr>\n",
       "    <tr>\n",
       "      <th>4</th>\n",
       "      <td>0</td>\n",
       "      <td>0</td>\n",
       "      <td>0</td>\n",
       "      <td>0</td>\n",
       "      <td>0</td>\n",
       "      <td>0</td>\n",
       "      <td>5</td>\n",
       "      <td>5</td>\n",
       "      <td>0</td>\n",
       "    </tr>\n",
       "    <tr>\n",
       "      <th>5</th>\n",
       "      <td>0</td>\n",
       "      <td>0</td>\n",
       "      <td>0</td>\n",
       "      <td>0</td>\n",
       "      <td>0</td>\n",
       "      <td>0</td>\n",
       "      <td>5</td>\n",
       "      <td>5</td>\n",
       "      <td>0</td>\n",
       "    </tr>\n",
       "    <tr>\n",
       "      <th>6</th>\n",
       "      <td>0</td>\n",
       "      <td>0</td>\n",
       "      <td>0</td>\n",
       "      <td>0</td>\n",
       "      <td>0</td>\n",
       "      <td>0</td>\n",
       "      <td>5</td>\n",
       "      <td>5</td>\n",
       "      <td>0</td>\n",
       "    </tr>\n",
       "    <tr>\n",
       "      <th>7</th>\n",
       "      <td>0</td>\n",
       "      <td>0</td>\n",
       "      <td>0</td>\n",
       "      <td>0</td>\n",
       "      <td>0</td>\n",
       "      <td>0</td>\n",
       "      <td>5</td>\n",
       "      <td>5</td>\n",
       "      <td>0</td>\n",
       "    </tr>\n",
       "    <tr>\n",
       "      <th>8</th>\n",
       "      <td>0</td>\n",
       "      <td>0</td>\n",
       "      <td>0</td>\n",
       "      <td>0</td>\n",
       "      <td>0</td>\n",
       "      <td>0</td>\n",
       "      <td>5</td>\n",
       "      <td>5</td>\n",
       "      <td>0</td>\n",
       "    </tr>\n",
       "    <tr>\n",
       "      <th>9</th>\n",
       "      <td>0</td>\n",
       "      <td>0</td>\n",
       "      <td>0</td>\n",
       "      <td>0</td>\n",
       "      <td>0</td>\n",
       "      <td>0</td>\n",
       "      <td>5</td>\n",
       "      <td>5</td>\n",
       "      <td>0</td>\n",
       "    </tr>\n",
       "  </tbody>\n",
       "</table>\n",
       "</div>"
      ],
      "text/plain": [
       "   cv0  cv1  cv2  cv3  cv4  sum0  sum1  sum2  final_vote\n",
       "0    0    0    0    0    0     0     5     5           0\n",
       "1    0    0    0    0    0     0     5     5           0\n",
       "2    0    0    0    0    0     0     5     5           0\n",
       "3    0    0    0    0    0     0     5     5           0\n",
       "4    0    0    0    0    0     0     5     5           0\n",
       "5    0    0    0    0    0     0     5     5           0\n",
       "6    0    0    0    0    0     0     5     5           0\n",
       "7    0    0    0    0    0     0     5     5           0\n",
       "8    0    0    0    0    0     0     5     5           0\n",
       "9    0    0    0    0    0     0     5     5           0"
      ]
     },
     "execution_count": 35,
     "metadata": {},
     "output_type": "execute_result"
    }
   ],
   "source": [
    "vote_df.head(10)"
   ]
  },
  {
   "cell_type": "code",
   "execution_count": 36,
   "metadata": {
    "collapsed": true
   },
   "outputs": [],
   "source": [
    "preds_ = test_preds2[0] \n",
    "preds_ = vote_df['final_vote'].values"
   ]
  },
  {
   "cell_type": "code",
   "execution_count": 37,
   "metadata": {},
   "outputs": [
    {
     "data": {
      "text/plain": [
       "array([0, 0, 0, ..., 2, 1, 2], dtype=int64)"
      ]
     },
     "execution_count": 37,
     "metadata": {},
     "output_type": "execute_result"
    }
   ],
   "source": [
    "preds_"
   ]
  },
  {
   "cell_type": "code",
   "execution_count": 38,
   "metadata": {
    "collapsed": true
   },
   "outputs": [],
   "source": [
    "submission = pd.DataFrame()\n",
    "submission['uid'] = test['uid']\n",
    "submission['type'] = np.round(preds_)"
   ]
  },
  {
   "cell_type": "code",
   "execution_count": 39,
   "metadata": {},
   "outputs": [
    {
     "data": {
      "text/html": [
       "<div>\n",
       "<style scoped>\n",
       "    .dataframe tbody tr th:only-of-type {\n",
       "        vertical-align: middle;\n",
       "    }\n",
       "\n",
       "    .dataframe tbody tr th {\n",
       "        vertical-align: top;\n",
       "    }\n",
       "\n",
       "    .dataframe thead th {\n",
       "        text-align: right;\n",
       "    }\n",
       "</style>\n",
       "<table border=\"1\" class=\"dataframe\">\n",
       "  <thead>\n",
       "    <tr style=\"text-align: right;\">\n",
       "      <th></th>\n",
       "      <th>uid</th>\n",
       "      <th>type</th>\n",
       "    </tr>\n",
       "  </thead>\n",
       "  <tbody>\n",
       "    <tr>\n",
       "      <th>0</th>\n",
       "      <td>2144065,506353</td>\n",
       "      <td>0</td>\n",
       "    </tr>\n",
       "    <tr>\n",
       "      <th>1</th>\n",
       "      <td>2143883</td>\n",
       "      <td>0</td>\n",
       "    </tr>\n",
       "    <tr>\n",
       "      <th>2</th>\n",
       "      <td>1435909,1497057,1496125</td>\n",
       "      <td>0</td>\n",
       "    </tr>\n",
       "    <tr>\n",
       "      <th>3</th>\n",
       "      <td>2144243,506080</td>\n",
       "      <td>0</td>\n",
       "    </tr>\n",
       "    <tr>\n",
       "      <th>4</th>\n",
       "      <td>3066703,3066822,3019759,3019767</td>\n",
       "      <td>0</td>\n",
       "    </tr>\n",
       "  </tbody>\n",
       "</table>\n",
       "</div>"
      ],
      "text/plain": [
       "                               uid  type\n",
       "0                   2144065,506353     0\n",
       "1                          2143883     0\n",
       "2          1435909,1497057,1496125     0\n",
       "3                   2144243,506080     0\n",
       "4  3066703,3066822,3019759,3019767     0"
      ]
     },
     "execution_count": 39,
     "metadata": {},
     "output_type": "execute_result"
    }
   ],
   "source": [
    "submission.head()"
   ]
  },
  {
   "cell_type": "code",
   "execution_count": 40,
   "metadata": {
    "collapsed": true
   },
   "outputs": [],
   "source": [
    "#submission.to_csv(\"submission_small_transport_v2.csv\",index=False)"
   ]
  },
  {
   "cell_type": "code",
   "execution_count": 41,
   "metadata": {
    "collapsed": true
   },
   "outputs": [],
   "source": [
    "#submission = pd.read_csv(\"submission_small_transport_v2_smooth.csv\") "
   ]
  },
  {
   "cell_type": "code",
   "execution_count": 42,
   "metadata": {},
   "outputs": [
    {
     "data": {
      "text/plain": [
       "(2550463, 2)"
      ]
     },
     "execution_count": 42,
     "metadata": {},
     "output_type": "execute_result"
    }
   ],
   "source": [
    "submission.shape"
   ]
  },
  {
   "cell_type": "code",
   "execution_count": 43,
   "metadata": {
    "collapsed": true
   },
   "outputs": [],
   "source": [
    "uid_liste = pd.read_csv(\"uid_ref.csv.gz\",compression=\"gzip\")\n"
   ]
  },
  {
   "cell_type": "code",
   "execution_count": 44,
   "metadata": {},
   "outputs": [
    {
     "data": {
      "text/plain": [
       "(6610545, 2)"
      ]
     },
     "execution_count": 44,
     "metadata": {},
     "output_type": "execute_result"
    }
   ],
   "source": [
    "uid_liste.shape"
   ]
  },
  {
   "cell_type": "code",
   "execution_count": 45,
   "metadata": {},
   "outputs": [
    {
     "data": {
      "text/html": [
       "<div>\n",
       "<style scoped>\n",
       "    .dataframe tbody tr th:only-of-type {\n",
       "        vertical-align: middle;\n",
       "    }\n",
       "\n",
       "    .dataframe tbody tr th {\n",
       "        vertical-align: top;\n",
       "    }\n",
       "\n",
       "    .dataframe thead th {\n",
       "        text-align: right;\n",
       "    }\n",
       "</style>\n",
       "<table border=\"1\" class=\"dataframe\">\n",
       "  <thead>\n",
       "    <tr style=\"text-align: right;\">\n",
       "      <th></th>\n",
       "      <th>uid_liste</th>\n",
       "      <th>uids</th>\n",
       "    </tr>\n",
       "  </thead>\n",
       "  <tbody>\n",
       "    <tr>\n",
       "      <th>0</th>\n",
       "      <td>2144065,506353</td>\n",
       "      <td>2144065</td>\n",
       "    </tr>\n",
       "    <tr>\n",
       "      <th>1</th>\n",
       "      <td>2144065,506353</td>\n",
       "      <td>506353</td>\n",
       "    </tr>\n",
       "    <tr>\n",
       "      <th>2</th>\n",
       "      <td>2143883</td>\n",
       "      <td>2143883</td>\n",
       "    </tr>\n",
       "    <tr>\n",
       "      <th>3</th>\n",
       "      <td>1435909,1497057,1496125</td>\n",
       "      <td>1435909</td>\n",
       "    </tr>\n",
       "    <tr>\n",
       "      <th>4</th>\n",
       "      <td>1435909,1497057,1496125</td>\n",
       "      <td>1497057</td>\n",
       "    </tr>\n",
       "  </tbody>\n",
       "</table>\n",
       "</div>"
      ],
      "text/plain": [
       "                 uid_liste     uids\n",
       "0           2144065,506353  2144065\n",
       "1           2144065,506353   506353\n",
       "2                  2143883  2143883\n",
       "3  1435909,1497057,1496125  1435909\n",
       "4  1435909,1497057,1496125  1497057"
      ]
     },
     "execution_count": 45,
     "metadata": {},
     "output_type": "execute_result"
    }
   ],
   "source": [
    "uid_liste.head()"
   ]
  },
  {
   "cell_type": "code",
   "execution_count": 46,
   "metadata": {
    "collapsed": true
   },
   "outputs": [],
   "source": [
    "submission = submission.merge(uid_liste, left_on='uid', right_on=\"uid_liste\", how='inner')"
   ]
  },
  {
   "cell_type": "code",
   "execution_count": 47,
   "metadata": {
    "collapsed": true
   },
   "outputs": [],
   "source": [
    "del submission['uid']\n",
    "del submission['uid_liste']\n",
    "submission['uid']=submission['uids']\n",
    "del submission['uids']"
   ]
  },
  {
   "cell_type": "code",
   "execution_count": 48,
   "metadata": {},
   "outputs": [
    {
     "data": {
      "text/html": [
       "<div>\n",
       "<style scoped>\n",
       "    .dataframe tbody tr th:only-of-type {\n",
       "        vertical-align: middle;\n",
       "    }\n",
       "\n",
       "    .dataframe tbody tr th {\n",
       "        vertical-align: top;\n",
       "    }\n",
       "\n",
       "    .dataframe thead th {\n",
       "        text-align: right;\n",
       "    }\n",
       "</style>\n",
       "<table border=\"1\" class=\"dataframe\">\n",
       "  <thead>\n",
       "    <tr style=\"text-align: right;\">\n",
       "      <th></th>\n",
       "      <th>type</th>\n",
       "      <th>uid</th>\n",
       "    </tr>\n",
       "  </thead>\n",
       "  <tbody>\n",
       "    <tr>\n",
       "      <th>0</th>\n",
       "      <td>0</td>\n",
       "      <td>2144065</td>\n",
       "    </tr>\n",
       "    <tr>\n",
       "      <th>1</th>\n",
       "      <td>0</td>\n",
       "      <td>506353</td>\n",
       "    </tr>\n",
       "    <tr>\n",
       "      <th>2</th>\n",
       "      <td>0</td>\n",
       "      <td>2143883</td>\n",
       "    </tr>\n",
       "    <tr>\n",
       "      <th>3</th>\n",
       "      <td>0</td>\n",
       "      <td>1435909</td>\n",
       "    </tr>\n",
       "    <tr>\n",
       "      <th>4</th>\n",
       "      <td>0</td>\n",
       "      <td>1497057</td>\n",
       "    </tr>\n",
       "  </tbody>\n",
       "</table>\n",
       "</div>"
      ],
      "text/plain": [
       "   type      uid\n",
       "0     0  2144065\n",
       "1     0   506353\n",
       "2     0  2143883\n",
       "3     0  1435909\n",
       "4     0  1497057"
      ]
     },
     "execution_count": 48,
     "metadata": {},
     "output_type": "execute_result"
    }
   ],
   "source": [
    "submission.head()"
   ]
  },
  {
   "cell_type": "code",
   "execution_count": 49,
   "metadata": {
    "collapsed": true
   },
   "outputs": [],
   "source": [
    "UC_momentdevie_sub_full0 = pd.read_csv(\"UC_momentdevie_sub_full0.csv\")\n",
    "del UC_momentdevie_sub_full0['type']"
   ]
  },
  {
   "cell_type": "code",
   "execution_count": 50,
   "metadata": {
    "collapsed": true
   },
   "outputs": [],
   "source": [
    "submission.to_csv(\"submission_full_transport_v2.csv\",index=False)"
   ]
  },
  {
   "cell_type": "code",
   "execution_count": 51,
   "metadata": {
    "collapsed": true
   },
   "outputs": [],
   "source": [
    "\n",
    "submission = submission.merge(UC_momentdevie_sub_full0, on='uid', how='inner')"
   ]
  },
  {
   "cell_type": "code",
   "execution_count": 52,
   "metadata": {},
   "outputs": [
    {
     "data": {
      "text/plain": [
       "(453041, 2)"
      ]
     },
     "execution_count": 52,
     "metadata": {},
     "output_type": "execute_result"
    }
   ],
   "source": [
    "submission.shape"
   ]
  },
  {
   "cell_type": "code",
   "execution_count": 53,
   "metadata": {},
   "outputs": [
    {
     "data": {
      "text/html": [
       "<div>\n",
       "<style scoped>\n",
       "    .dataframe tbody tr th:only-of-type {\n",
       "        vertical-align: middle;\n",
       "    }\n",
       "\n",
       "    .dataframe tbody tr th {\n",
       "        vertical-align: top;\n",
       "    }\n",
       "\n",
       "    .dataframe thead th {\n",
       "        text-align: right;\n",
       "    }\n",
       "</style>\n",
       "<table border=\"1\" class=\"dataframe\">\n",
       "  <thead>\n",
       "    <tr style=\"text-align: right;\">\n",
       "      <th></th>\n",
       "      <th>type</th>\n",
       "      <th>uid</th>\n",
       "    </tr>\n",
       "  </thead>\n",
       "  <tbody>\n",
       "    <tr>\n",
       "      <th>0</th>\n",
       "      <td>0</td>\n",
       "      <td>3019475</td>\n",
       "    </tr>\n",
       "    <tr>\n",
       "      <th>1</th>\n",
       "      <td>2</td>\n",
       "      <td>3341715</td>\n",
       "    </tr>\n",
       "    <tr>\n",
       "      <th>2</th>\n",
       "      <td>2</td>\n",
       "      <td>1891595</td>\n",
       "    </tr>\n",
       "    <tr>\n",
       "      <th>3</th>\n",
       "      <td>2</td>\n",
       "      <td>3344115</td>\n",
       "    </tr>\n",
       "    <tr>\n",
       "      <th>4</th>\n",
       "      <td>2</td>\n",
       "      <td>3342315</td>\n",
       "    </tr>\n",
       "  </tbody>\n",
       "</table>\n",
       "</div>"
      ],
      "text/plain": [
       "   type      uid\n",
       "0     0  3019475\n",
       "1     2  3341715\n",
       "2     2  1891595\n",
       "3     2  3344115\n",
       "4     2  3342315"
      ]
     },
     "execution_count": 53,
     "metadata": {},
     "output_type": "execute_result"
    }
   ],
   "source": [
    "submission.head()"
   ]
  },
  {
   "cell_type": "code",
   "execution_count": 54,
   "metadata": {
    "collapsed": true
   },
   "outputs": [],
   "source": [
    "if 0 :\n",
    "    submission.to_csv(\"submission_transport_v2_smooth.csv\",index=False)"
   ]
  },
  {
   "cell_type": "code",
   "execution_count": 56,
   "metadata": {},
   "outputs": [],
   "source": [
    "if 1:\n",
    "    #submission.to_csv(\"submission_transport\"²++\"_v3_vote.csv\",index=False)\n",
    "    submission.to_csv(\"submission_transport_v4_vote.csv\",index=False)"
   ]
  },
  {
   "cell_type": "markdown",
   "metadata": {},
   "source": [
    "## ACC test:  96.902046"
   ]
  }
 ],
 "metadata": {
  "kernelspec": {
   "display_name": "Python 3",
   "language": "python",
   "name": "python3"
  },
  "language_info": {
   "codemirror_mode": {
    "name": "ipython",
    "version": 3
   },
   "file_extension": ".py",
   "mimetype": "text/x-python",
   "name": "python",
   "nbconvert_exporter": "python",
   "pygments_lexer": "ipython3",
   "version": "3.7.3"
  }
 },
 "nbformat": 4,
 "nbformat_minor": 2
}
