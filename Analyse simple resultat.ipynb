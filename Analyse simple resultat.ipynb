{
 "cells": [
  {
   "cell_type": "code",
   "execution_count": 2,
   "metadata": {},
   "outputs": [],
   "source": [
    "import string\n",
    "import math\n",
    "import sys\n",
    "import pandas as pd\n",
    "import numpy as np\n",
    "\n",
    "from scipy import stats\n",
    "import matplotlib.pyplot as plt"
   ]
  },
  {
   "cell_type": "code",
   "execution_count": 3,
   "metadata": {},
   "outputs": [],
   "source": [
    "df = pd.read_csv(\"bd_resultat_simple.csv\",sep=\";\",header=0,low_memory=0)\n",
    "df[\"type_res\"]=df[\"type_res\"].apply(lambda x: np.NaN if str(x).isspace() else x)\n",
    "df = df.fillna(0)"
   ]
  },
  {
   "cell_type": "code",
   "execution_count": 4,
   "metadata": {},
   "outputs": [],
   "source": [
    "df2=df.replace(['Autoroute','Train','Autres'],[1,2,3])"
   ]
  },
  {
   "cell_type": "code",
   "execution_count": 5,
   "metadata": {},
   "outputs": [
    {
     "data": {
      "text/html": [
       "<div>\n",
       "<style scoped>\n",
       "    .dataframe tbody tr th:only-of-type {\n",
       "        vertical-align: middle;\n",
       "    }\n",
       "\n",
       "    .dataframe tbody tr th {\n",
       "        vertical-align: top;\n",
       "    }\n",
       "\n",
       "    .dataframe thead th {\n",
       "        text-align: right;\n",
       "    }\n",
       "</style>\n",
       "<table border=\"1\" class=\"dataframe\">\n",
       "  <thead>\n",
       "    <tr style=\"text-align: right;\">\n",
       "      <th></th>\n",
       "      <th>uid</th>\n",
       "      <th>type_res</th>\n",
       "      <th>type_init</th>\n",
       "    </tr>\n",
       "  </thead>\n",
       "  <tbody>\n",
       "    <tr>\n",
       "      <th>0</th>\n",
       "      <td>1</td>\n",
       "      <td>3</td>\n",
       "      <td>1</td>\n",
       "    </tr>\n",
       "    <tr>\n",
       "      <th>1</th>\n",
       "      <td>2</td>\n",
       "      <td>3</td>\n",
       "      <td>1</td>\n",
       "    </tr>\n",
       "    <tr>\n",
       "      <th>2</th>\n",
       "      <td>3</td>\n",
       "      <td>3</td>\n",
       "      <td>1</td>\n",
       "    </tr>\n",
       "    <tr>\n",
       "      <th>3</th>\n",
       "      <td>4</td>\n",
       "      <td>3</td>\n",
       "      <td>1</td>\n",
       "    </tr>\n",
       "    <tr>\n",
       "      <th>4</th>\n",
       "      <td>5</td>\n",
       "      <td>2</td>\n",
       "      <td>1</td>\n",
       "    </tr>\n",
       "  </tbody>\n",
       "</table>\n",
       "</div>"
      ],
      "text/plain": [
       "   uid  type_res  type_init\n",
       "0    1         3          1\n",
       "1    2         3          1\n",
       "2    3         3          1\n",
       "3    4         3          1\n",
       "4    5         2          1"
      ]
     },
     "execution_count": 5,
     "metadata": {},
     "output_type": "execute_result"
    }
   ],
   "source": [
    "df2.head()"
   ]
  },
  {
   "cell_type": "code",
   "execution_count": 6,
   "metadata": {},
   "outputs": [
    {
     "data": {
      "text/plain": [
       "(24853251, 3)"
      ]
     },
     "execution_count": 6,
     "metadata": {},
     "output_type": "execute_result"
    }
   ],
   "source": [
    "df2.shape"
   ]
  },
  {
   "cell_type": "code",
   "execution_count": 7,
   "metadata": {},
   "outputs": [
    {
     "name": "stdout",
     "output_type": "stream",
     "text": [
      "Nombre de lignes tel que le type de transport détecté = type de transport initial:  10341230\n",
      "taux de correction: 41.61 %\n"
     ]
    }
   ],
   "source": [
    "#nb de lignes egale:\n",
    "egal = df2.type_res == df2.type_init\n",
    "print(\"Nombre de lignes tel que le type de transport détecté = type de transport initial: \",np.sum(egal))\n",
    "print(\"taux de correction:\",\"{:.2f}\".format(np.sum(egal)*100/len(df2)), \"%\")"
   ]
  },
  {
   "cell_type": "code",
   "execution_count": 8,
   "metadata": {},
   "outputs": [],
   "source": [
    "#DataFrame.sample(n=None, frac=None, replace=False, weights=None, random_state=None, axis=None)\n",
    "sous_df2 = df2.sample(frac=0.1)"
   ]
  },
  {
   "cell_type": "code",
   "execution_count": 9,
   "metadata": {},
   "outputs": [
    {
     "data": {
      "text/plain": [
       "(2485325, 3)"
      ]
     },
     "execution_count": 9,
     "metadata": {},
     "output_type": "execute_result"
    }
   ],
   "source": [
    "sous_df2.shape"
   ]
  },
  {
   "cell_type": "code",
   "execution_count": 10,
   "metadata": {
    "scrolled": true
   },
   "outputs": [
    {
     "name": "stdout",
     "output_type": "stream",
     "text": [
      "mean of type_init = 1.72   std of type_init = 1.29\n",
      "\n",
      "mean of type_res = 1.69   std of type_res = 1.30\n",
      "\n"
     ]
    }
   ],
   "source": [
    "y1 = sous_df2['type_init']\n",
    "y2 = sous_df2['type_res']\n",
    "print('mean of type_init = %.2f  ' %y1.mean(), 'std of type_init = %.2f\\n' %y1.std())\n",
    "print('mean of type_res = %.2f  ' %y2.mean(), 'std of type_res = %.2f\\n' %y2.std())"
   ]
  },
  {
   "cell_type": "code",
   "execution_count": 11,
   "metadata": {},
   "outputs": [
    {
     "name": "stdout",
     "output_type": "stream",
     "text": [
      "Interprétation_1: les échantillons ne suivent pas une loi normale\n"
     ]
    },
    {
     "data": {
      "image/png": "[encoded data removed]",
      "text/plain": [
       "<Figure size 720x288 with 3 Axes>"
      ]
     },
     "metadata": {
      "needs_background": "light"
     },
     "output_type": "display_data"
    }
   ],
   "source": [
    "import seaborn as sns\n",
    "fig = plt.figure(figsize=(10,4))\n",
    "ax1 = fig.add_subplot(131)\n",
    "ax2 = fig.add_subplot(132)\n",
    "ax3 = fig.add_subplot(133)\n",
    "\n",
    "diff = y1-y2\n",
    "sns.distplot(diff)\n",
    "\n",
    "sns.distplot(y1,ax=ax1)\n",
    "sns.distplot(y2,ax=ax2)\n",
    "sns.distplot(diff,ax=ax3)\n",
    "ax1.set_title('distribution de type_init')\n",
    "ax2.set_title('distribution de type_res')\n",
    "ax3.set_title('Distribution de différence appariée')\n",
    "\n",
    "\n",
    "print('Interprétation_1: les échantillons ne suivent pas une loi normale')\n",
    "#la D-value et p-value du test Kolmogorov-Smirnov montre aussi que les données ne suivent pas une loi normale\n",
    "#stats.kstest(y1,'norm',alternative ='two-sided', mode='asymp')\n",
    "#stats.kstest(y2,'norm',alternative ='two-sided', mode='asymp')"
   ]
  },
  {
   "cell_type": "code",
   "execution_count": 12,
   "metadata": {},
   "outputs": [
    {
     "name": "stdout",
     "output_type": "stream",
     "text": [
      "LeveneResult(statistic=4254.570516864698, pvalue=0.0)\n",
      "Interprétation_2: p-value << 0.05, les variances des échantillons ne sont pas honogènes.\n",
      "\n"
     ]
    }
   ],
   "source": [
    "#levene's test\n",
    "print(stats.levene(y1,y2))\n",
    "print('Interprétation_2: p-value << 0.05, les variances des échantillons ne sont pas honogènes.\\n')\n",
    "#si p-value << 0.05 --> les variances ne sont pas honogènes (rejette homogènes)\n",
    "#on applique donc ensuite un test non paramétrique"
   ]
  },
  {
   "cell_type": "code",
   "execution_count": 14,
   "metadata": {},
   "outputs": [
    {
     "name": "stdout",
     "output_type": "stream",
     "text": [
      "(297996.7569066886, 0.0, 9, array([[208319.4058608 ,  72594.9742255 ,  99055.00883788,\n",
      "        281957.61107582],\n",
      "       [163997.23957028,  57149.62238138,  77980.00358102,\n",
      "        221968.13446732],\n",
      "       [ 51570.40399103,  17971.21172201,  24521.51205979,\n",
      "         69799.87222717],\n",
      "       [358285.95057789, 124855.19167111, 170363.47552131,\n",
      "        484935.38222969]]))\n",
      "Interprétation_3: khi2-value grande, p-value << 0.05,  d.d.l = 9\n",
      "Les variables présentent une association statistiquement significative (on rejette H0)\n",
      "\n"
     ]
    }
   ],
   "source": [
    "'''\n",
    "    Dans le cas de 2 échantillons appariés avec les variables qualitatives, \n",
    "    on peut appliquer un test non paramétrique --> test de chi2\n",
    "    qui nous permet d'analyser la corrélation de deux variables qualitatives. \n",
    "'''\n",
    "contingency = pd.crosstab(y1,y2)\n",
    "print(stats.chi2_contingency(contingency))\n",
    "print('Interprétation_3: khi2-value grande, p-value << 0.05,  d.d.l = 9')\n",
    "print('Les variables présentent une association statistiquement significative (on rejette H0)\\n')\n"
   ]
  }
 ],
 "metadata": {
  "kernelspec": {
   "display_name": "Python 3",
   "language": "python",
   "name": "python3"
  },
  "language_info": {
   "codemirror_mode": {
    "name": "ipython",
    "version": 3
   },
   "file_extension": ".py",
   "mimetype": "text/x-python",
   "name": "python",
   "nbconvert_exporter": "python",
   "pygments_lexer": "ipython3",
   "version": "3.7.3"
  }
 },
 "nbformat": 4,
 "nbformat_minor": 2
}
